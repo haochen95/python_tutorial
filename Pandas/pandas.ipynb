{
 "cells": [
  {
   "cell_type": "markdown",
   "metadata": {
    "toc": true
   },
   "source": [
    "<h1>Table of Contents<span class=\"tocSkip\"></span></h1>\n",
    "<div class=\"toc\"><ul class=\"toc-item\"><li><span><a href=\"#Pandas基础\" data-toc-modified-id=\"Pandas基础-1\"><span class=\"toc-item-num\">1&nbsp;&nbsp;</span>Pandas基础</a></span></li><li><span><a href=\"#Series\" data-toc-modified-id=\"Series-2\"><span class=\"toc-item-num\">2&nbsp;&nbsp;</span>Series</a></span><ul class=\"toc-item\"><li><span><a href=\"#创建Series\" data-toc-modified-id=\"创建Series-2.1\"><span class=\"toc-item-num\">2.1&nbsp;&nbsp;</span>创建Series</a></span></li><li><span><a href=\"#Series元素访问\" data-toc-modified-id=\"Series元素访问-2.2\"><span class=\"toc-item-num\">2.2&nbsp;&nbsp;</span>Series元素访问</a></span></li></ul></li><li><span><a href=\"#DataFrame\" data-toc-modified-id=\"DataFrame-3\"><span class=\"toc-item-num\">3&nbsp;&nbsp;</span>DataFrame</a></span><ul class=\"toc-item\"><li><span><a href=\"#创建DataFrame\" data-toc-modified-id=\"创建DataFrame-3.1\"><span class=\"toc-item-num\">3.1&nbsp;&nbsp;</span>创建DataFrame</a></span></li><li><span><a href=\"#DataFrame元素访问\" data-toc-modified-id=\"DataFrame元素访问-3.2\"><span class=\"toc-item-num\">3.2&nbsp;&nbsp;</span>DataFrame元素访问</a></span><ul class=\"toc-item\"><li><span><a href=\"#列的选择、添加和删除\" data-toc-modified-id=\"列的选择、添加和删除-3.2.1\"><span class=\"toc-item-num\">3.2.1&nbsp;&nbsp;</span>列的选择、添加和删除</a></span></li><li><span><a href=\"#行的选择、添加和删除\" data-toc-modified-id=\"行的选择、添加和删除-3.2.2\"><span class=\"toc-item-num\">3.2.2&nbsp;&nbsp;</span>行的选择、添加和删除</a></span></li><li><span><a href=\"#行、列结合\" data-toc-modified-id=\"行、列结合-3.2.3\"><span class=\"toc-item-num\">3.2.3&nbsp;&nbsp;</span>行、列结合</a></span></li></ul></li></ul></li><li><span><a href=\"#Pandas属性\" data-toc-modified-id=\"Pandas属性-4\"><span class=\"toc-item-num\">4&nbsp;&nbsp;</span>Pandas属性</a></span></li><li><span><a href=\"#Pandas迭代循环\" data-toc-modified-id=\"Pandas迭代循环-5\"><span class=\"toc-item-num\">5&nbsp;&nbsp;</span>Pandas迭代循环</a></span><ul class=\"toc-item\"><li><span><a href=\"#迭代行\" data-toc-modified-id=\"迭代行-5.1\"><span class=\"toc-item-num\">5.1&nbsp;&nbsp;</span>迭代行</a></span></li></ul></li><li><span><a href=\"#Pandas排序\" data-toc-modified-id=\"Pandas排序-6\"><span class=\"toc-item-num\">6&nbsp;&nbsp;</span>Pandas排序</a></span><ul class=\"toc-item\"><li><span><a href=\"#按照标签排序sort_index()--默认行\" data-toc-modified-id=\"按照标签排序sort_index()--默认行-6.1\"><span class=\"toc-item-num\">6.1&nbsp;&nbsp;</span>按照标签排序sort_index()--默认行</a></span></li><li><span><a href=\"#按值排序sort_values(by=column-name)\" data-toc-modified-id=\"按值排序sort_values(by=column-name)-6.2\"><span class=\"toc-item-num\">6.2&nbsp;&nbsp;</span>按值排序sort_values(by=column name)</a></span></li></ul></li><li><span><a href=\"#Pandas字符串和文本数据\" data-toc-modified-id=\"Pandas字符串和文本数据-7\"><span class=\"toc-item-num\">7&nbsp;&nbsp;</span>Pandas字符串和文本数据</a></span></li><li><span><a href=\"#Pandas函数应用\" data-toc-modified-id=\"Pandas函数应用-8\"><span class=\"toc-item-num\">8&nbsp;&nbsp;</span>Pandas函数应用</a></span><ul class=\"toc-item\"><li><span><a href=\"#表格函数应用pipe()\" data-toc-modified-id=\"表格函数应用pipe()-8.1\"><span class=\"toc-item-num\">8.1&nbsp;&nbsp;</span>表格函数应用pipe()</a></span></li><li><span><a href=\"#行或列合理函数应用apply()\" data-toc-modified-id=\"行或列合理函数应用apply()-8.2\"><span class=\"toc-item-num\">8.2&nbsp;&nbsp;</span>行或列合理函数应用apply()</a></span></li><li><span><a href=\"#元素合理函数应用applymap()\" data-toc-modified-id=\"元素合理函数应用applymap()-8.3\"><span class=\"toc-item-num\">8.3&nbsp;&nbsp;</span>元素合理函数应用applymap()</a></span></li></ul></li><li><span><a href=\"#重设行、列索引标签\" data-toc-modified-id=\"重设行、列索引标签-9\"><span class=\"toc-item-num\">9&nbsp;&nbsp;</span>重设行、列索引标签</a></span><ul class=\"toc-item\"><li><span><a href=\"#reindex\" data-toc-modified-id=\"reindex-9.1\"><span class=\"toc-item-num\">9.1&nbsp;&nbsp;</span>reindex</a></span></li><li><span><a href=\"#reindex_like\" data-toc-modified-id=\"reindex_like-9.2\"><span class=\"toc-item-num\">9.2&nbsp;&nbsp;</span>reindex_like</a></span></li><li><span><a href=\"#rename\" data-toc-modified-id=\"rename-9.3\"><span class=\"toc-item-num\">9.3&nbsp;&nbsp;</span>rename</a></span></li></ul></li><li><span><a href=\"#Pandas数据处理\" data-toc-modified-id=\"Pandas数据处理-10\"><span class=\"toc-item-num\">10&nbsp;&nbsp;</span>Pandas数据处理</a></span><ul class=\"toc-item\"><li><span><a href=\"#统计分析\" data-toc-modified-id=\"统计分析-10.1\"><span class=\"toc-item-num\">10.1&nbsp;&nbsp;</span>统计分析</a></span></li><li><span><a href=\"#describe统计\" data-toc-modified-id=\"describe统计-10.2\"><span class=\"toc-item-num\">10.2&nbsp;&nbsp;</span>describe统计</a></span></li><li><span><a href=\"#相关性\" data-toc-modified-id=\"相关性-10.3\"><span class=\"toc-item-num\">10.3&nbsp;&nbsp;</span>相关性</a></span></li></ul></li><li><span><a href=\"#Pandas高级用法\" data-toc-modified-id=\"Pandas高级用法-11\"><span class=\"toc-item-num\">11&nbsp;&nbsp;</span>Pandas高级用法</a></span><ul class=\"toc-item\"><li><span><a href=\"#窗口函数\" data-toc-modified-id=\"窗口函数-11.1\"><span class=\"toc-item-num\">11.1&nbsp;&nbsp;</span>窗口函数</a></span><ul class=\"toc-item\"><li><span><a href=\"#rolling函数\" data-toc-modified-id=\"rolling函数-11.1.1\"><span class=\"toc-item-num\">11.1.1&nbsp;&nbsp;</span>rolling函数</a></span></li></ul></li><li><span><a href=\"#Pandas聚合\" data-toc-modified-id=\"Pandas聚合-11.2\"><span class=\"toc-item-num\">11.2&nbsp;&nbsp;</span>Pandas聚合</a></span><ul class=\"toc-item\"><li><span><a href=\"#在整个数据框上聚合\" data-toc-modified-id=\"在整个数据框上聚合-11.2.1\"><span class=\"toc-item-num\">11.2.1&nbsp;&nbsp;</span>在整个数据框上聚合</a></span></li><li><span><a href=\"#数据框的单个列上应用聚合\" data-toc-modified-id=\"数据框的单个列上应用聚合-11.2.2\"><span class=\"toc-item-num\">11.2.2&nbsp;&nbsp;</span>数据框的单个列上应用聚合</a></span></li><li><span><a href=\"#DataFrame的多列上应用聚合\" data-toc-modified-id=\"DataFrame的多列上应用聚合-11.2.3\"><span class=\"toc-item-num\">11.2.3&nbsp;&nbsp;</span>DataFrame的多列上应用聚合</a></span></li><li><span><a href=\"#DataFrame的单个列上应用多个函数\" data-toc-modified-id=\"DataFrame的单个列上应用多个函数-11.2.4\"><span class=\"toc-item-num\">11.2.4&nbsp;&nbsp;</span>DataFrame的单个列上应用多个函数</a></span></li><li><span><a href=\"#DataFrame的多列上应用多个函数\" data-toc-modified-id=\"DataFrame的多列上应用多个函数-11.2.5\"><span class=\"toc-item-num\">11.2.5&nbsp;&nbsp;</span>DataFrame的多列上应用多个函数</a></span></li></ul></li><li><span><a href=\"#Pandas的缺省值\" data-toc-modified-id=\"Pandas的缺省值-11.3\"><span class=\"toc-item-num\">11.3&nbsp;&nbsp;</span>Pandas的缺省值</a></span><ul class=\"toc-item\"><li><span><a href=\"#检查是否有nan\" data-toc-modified-id=\"检查是否有nan-11.3.1\"><span class=\"toc-item-num\">11.3.1&nbsp;&nbsp;</span>检查是否有nan</a></span></li><li><span><a href=\"#清理、填充缺少数据\" data-toc-modified-id=\"清理、填充缺少数据-11.3.2\"><span class=\"toc-item-num\">11.3.2&nbsp;&nbsp;</span>清理、填充缺少数据</a></span></li></ul></li><li><span><a href=\"#Groupby分组\" data-toc-modified-id=\"Groupby分组-11.4\"><span class=\"toc-item-num\">11.4&nbsp;&nbsp;</span>Groupby分组</a></span><ul class=\"toc-item\"><li><span><a href=\"#创建分组\" data-toc-modified-id=\"创建分组-11.4.1\"><span class=\"toc-item-num\">11.4.1&nbsp;&nbsp;</span>创建分组</a></span></li><li><span><a href=\"#迭代遍历分组\" data-toc-modified-id=\"迭代遍历分组-11.4.2\"><span class=\"toc-item-num\">11.4.2&nbsp;&nbsp;</span>迭代遍历分组</a></span></li><li><span><a href=\"#选择一个分组get_group()\" data-toc-modified-id=\"选择一个分组get_group()-11.4.3\"><span class=\"toc-item-num\">11.4.3&nbsp;&nbsp;</span>选择一个分组get_group()</a></span></li><li><span><a href=\"#分组下的聚合agg\" data-toc-modified-id=\"分组下的聚合agg-11.4.4\"><span class=\"toc-item-num\">11.4.4&nbsp;&nbsp;</span>分组下的聚合agg</a></span></li><li><span><a href=\"#分组下的过滤\" data-toc-modified-id=\"分组下的过滤-11.4.5\"><span class=\"toc-item-num\">11.4.5&nbsp;&nbsp;</span>分组下的过滤</a></span></li></ul></li><li><span><a href=\"#Pandas合并/连接merge\" data-toc-modified-id=\"Pandas合并/连接merge-11.5\"><span class=\"toc-item-num\">11.5&nbsp;&nbsp;</span>Pandas合并/连接merge</a></span><ul class=\"toc-item\"><li><span><a href=\"#在一个键上合并两个数据帧\" data-toc-modified-id=\"在一个键上合并两个数据帧-11.5.1\"><span class=\"toc-item-num\">11.5.1&nbsp;&nbsp;</span>在一个键上合并两个数据帧</a></span></li><li><span><a href=\"#合并多个键上的两个数据框\" data-toc-modified-id=\"合并多个键上的两个数据框-11.5.2\"><span class=\"toc-item-num\">11.5.2&nbsp;&nbsp;</span>合并多个键上的两个数据框</a></span></li></ul></li><li><span><a href=\"#Pandas可视化\" data-toc-modified-id=\"Pandas可视化-11.6\"><span class=\"toc-item-num\">11.6&nbsp;&nbsp;</span>Pandas可视化</a></span><ul class=\"toc-item\"><li><span><a href=\"#bar\" data-toc-modified-id=\"bar-11.6.1\"><span class=\"toc-item-num\">11.6.1&nbsp;&nbsp;</span>bar</a></span></li><li><span><a href=\"#直方图\" data-toc-modified-id=\"直方图-11.6.2\"><span class=\"toc-item-num\">11.6.2&nbsp;&nbsp;</span>直方图</a></span></li><li><span><a href=\"#箱形图\" data-toc-modified-id=\"箱形图-11.6.3\"><span class=\"toc-item-num\">11.6.3&nbsp;&nbsp;</span>箱形图</a></span></li><li><span><a href=\"#散点图\" data-toc-modified-id=\"散点图-11.6.4\"><span class=\"toc-item-num\">11.6.4&nbsp;&nbsp;</span>散点图</a></span></li><li><span><a href=\"#饼状图\" data-toc-modified-id=\"饼状图-11.6.5\"><span class=\"toc-item-num\">11.6.5&nbsp;&nbsp;</span>饼状图</a></span></li></ul></li></ul></li></ul></div>"
   ]
  },
  {
   "cell_type": "markdown",
   "metadata": {},
   "source": []
  },
  {
   "cell_type": "markdown",
   "metadata": {},
   "source": [
    "# Pandas基础  \n",
    "\n",
    "在pandas中有两类非常重要的数据结构，即序列Series和数据框DataFrame。\n",
    "\n",
    "* Series类似于numpy中的一维数组\n",
    "* DataFrame类似于numpy中的二维数组"
   ]
  },
  {
   "cell_type": "markdown",
   "metadata": {},
   "source": [
    "# Series"
   ]
  },
  {
   "cell_type": "markdown",
   "metadata": {},
   "source": [
    "## 创建Series"
   ]
  },
  {
   "cell_type": "markdown",
   "metadata": {},
   "source": [
    "```python\n",
    "pandas.Series( data, index, dtype, copy)\n",
    "```\n",
    "* data： ndarry， list， constants  \n",
    "* index: 索引值必须和数据长度先沟通  \n",
    "\n",
    "主\n",
    "要有四种方法：\n",
    "\n",
    "* 通过一位list创建序列\n",
    "* 通过一维数组创建序列\n",
    "* 通过字典的方式创建序列\n",
    "* 通过DataFrame中的某一行或某一列创建序列\n",
    "\n",
    "```python\n",
    "import numpy as np, pandas as pd\n",
    "\n",
    "# method 1\n",
    "s1 = pd.Series([1,2,3],index=['a','b','c'])\n",
    "# method 2\n",
    "arr1 = np.arange(10)\n",
    "s2 = pd.Series(arr1)\n",
    "# method 3\n",
    "dic1 = {'a':10,'b':20,'c':30,'d':40,'e':50}\n",
    "s3 = pd.Series(dic1)\n",
    "# method 4   \n",
    "s = pd.Series(5, index=[0, 1, 2, 3])  # 复制4次5\n",
    "```"
   ]
  },
  {
   "cell_type": "markdown",
   "metadata": {},
   "source": [
    "## Series元素访问  \n",
    "\n",
    "类似于访问`ndarray`中的数据来访问\n",
    "\n",
    "* 使用index访问\n",
    "* 使用标签索引访问\n",
    "\n",
    "```python\n",
    "s1 = pd.Series([1,2,3],index=['a','b','c'])  \n",
    "\n",
    "# index\n",
    "s1[0]\n",
    "s1['a'] # same\n",
    "s1[['a','c','b']]\n",
    "s1[[0,2,1]]\n",
    "\n",
    "# slice\n",
    "s1[-3,:]\n",
    "s1[:,3]\n",
    "```"
   ]
  },
  {
   "cell_type": "markdown",
   "metadata": {},
   "source": [
    "# DataFrame"
   ]
  },
  {
   "cell_type": "markdown",
   "metadata": {},
   "source": [
    "```python\n",
    "pandas.DataFrame( data, index, columns, dtype, copy)\n",
    "```"
   ]
  },
  {
   "cell_type": "markdown",
   "metadata": {},
   "source": [
    "## 创建DataFrame"
   ]
  },
  {
   "cell_type": "markdown",
   "metadata": {},
   "source": [
    "Pandas数据帧\\(DataFrame\\)可以使用各种输入创建，如\n",
    "\n",
    "* 列表\n",
    "* 字典\n",
    "* Series\n",
    "* 从ndarrays/Lists的字典来创建DataFrame\n",
    "* 另外一个Dataframe"
   ]
  },
  {
   "cell_type": "markdown",
   "metadata": {},
   "source": [
    "* 列表"
   ]
  },
  {
   "cell_type": "code",
   "execution_count": 2,
   "metadata": {},
   "outputs": [
    {
     "data": {
      "text/html": [
       "<div>\n",
       "<style scoped>\n",
       "    .dataframe tbody tr th:only-of-type {\n",
       "        vertical-align: middle;\n",
       "    }\n",
       "\n",
       "    .dataframe tbody tr th {\n",
       "        vertical-align: top;\n",
       "    }\n",
       "\n",
       "    .dataframe thead th {\n",
       "        text-align: right;\n",
       "    }\n",
       "</style>\n",
       "<table border=\"1\" class=\"dataframe\">\n",
       "  <thead>\n",
       "    <tr style=\"text-align: right;\">\n",
       "      <th></th>\n",
       "      <th>Name</th>\n",
       "      <th>Age</th>\n",
       "    </tr>\n",
       "  </thead>\n",
       "  <tbody>\n",
       "    <tr>\n",
       "      <th>0</th>\n",
       "      <td>Alex</td>\n",
       "      <td>10</td>\n",
       "    </tr>\n",
       "    <tr>\n",
       "      <th>1</th>\n",
       "      <td>Bob</td>\n",
       "      <td>12</td>\n",
       "    </tr>\n",
       "    <tr>\n",
       "      <th>2</th>\n",
       "      <td>Clarke</td>\n",
       "      <td>13</td>\n",
       "    </tr>\n",
       "  </tbody>\n",
       "</table>\n",
       "</div>"
      ],
      "text/plain": [
       "     Name  Age\n",
       "0    Alex   10\n",
       "1     Bob   12\n",
       "2  Clarke   13"
      ]
     },
     "execution_count": 2,
     "metadata": {},
     "output_type": "execute_result"
    }
   ],
   "source": [
    "import pandas as pd\n",
    "\n",
    "data = [['Alex',10],['Bob',12],['Clarke',13]]\n",
    "df = pd.DataFrame(data,columns=['Name','Age'])\n",
    "df"
   ]
  },
  {
   "cell_type": "markdown",
   "metadata": {},
   "source": [
    "* 从ndarrays/Lists的字典来创建DataFrame"
   ]
  },
  {
   "cell_type": "code",
   "execution_count": 3,
   "metadata": {},
   "outputs": [
    {
     "data": {
      "text/html": [
       "<div>\n",
       "<style scoped>\n",
       "    .dataframe tbody tr th:only-of-type {\n",
       "        vertical-align: middle;\n",
       "    }\n",
       "\n",
       "    .dataframe tbody tr th {\n",
       "        vertical-align: top;\n",
       "    }\n",
       "\n",
       "    .dataframe thead th {\n",
       "        text-align: right;\n",
       "    }\n",
       "</style>\n",
       "<table border=\"1\" class=\"dataframe\">\n",
       "  <thead>\n",
       "    <tr style=\"text-align: right;\">\n",
       "      <th></th>\n",
       "      <th>Name</th>\n",
       "      <th>Age</th>\n",
       "    </tr>\n",
       "  </thead>\n",
       "  <tbody>\n",
       "    <tr>\n",
       "      <th>rank1</th>\n",
       "      <td>Tom</td>\n",
       "      <td>28</td>\n",
       "    </tr>\n",
       "    <tr>\n",
       "      <th>rank2</th>\n",
       "      <td>Jack</td>\n",
       "      <td>34</td>\n",
       "    </tr>\n",
       "    <tr>\n",
       "      <th>rank3</th>\n",
       "      <td>Steve</td>\n",
       "      <td>29</td>\n",
       "    </tr>\n",
       "    <tr>\n",
       "      <th>rank4</th>\n",
       "      <td>Ricky</td>\n",
       "      <td>42</td>\n",
       "    </tr>\n",
       "  </tbody>\n",
       "</table>\n",
       "</div>"
      ],
      "text/plain": [
       "        Name  Age\n",
       "rank1    Tom   28\n",
       "rank2   Jack   34\n",
       "rank3  Steve   29\n",
       "rank4  Ricky   42"
      ]
     },
     "execution_count": 3,
     "metadata": {},
     "output_type": "execute_result"
    }
   ],
   "source": [
    "data = {'Name':['Tom', 'Jack', 'Steve', 'Ricky'],'Age':[28,34,29,42]}\n",
    "df = pd.DataFrame(data, index=['rank1','rank2','rank3','rank4'])\n",
    "df"
   ]
  },
  {
   "cell_type": "code",
   "execution_count": 4,
   "metadata": {},
   "outputs": [
    {
     "data": {
      "text/html": [
       "<div>\n",
       "<style scoped>\n",
       "    .dataframe tbody tr th:only-of-type {\n",
       "        vertical-align: middle;\n",
       "    }\n",
       "\n",
       "    .dataframe tbody tr th {\n",
       "        vertical-align: top;\n",
       "    }\n",
       "\n",
       "    .dataframe thead th {\n",
       "        text-align: right;\n",
       "    }\n",
       "</style>\n",
       "<table border=\"1\" class=\"dataframe\">\n",
       "  <thead>\n",
       "    <tr style=\"text-align: right;\">\n",
       "      <th></th>\n",
       "      <th>a</th>\n",
       "      <th>b</th>\n",
       "      <th>c</th>\n",
       "    </tr>\n",
       "  </thead>\n",
       "  <tbody>\n",
       "    <tr>\n",
       "      <th>first</th>\n",
       "      <td>1</td>\n",
       "      <td>2</td>\n",
       "      <td>NaN</td>\n",
       "    </tr>\n",
       "    <tr>\n",
       "      <th>second</th>\n",
       "      <td>5</td>\n",
       "      <td>10</td>\n",
       "      <td>20.0</td>\n",
       "    </tr>\n",
       "  </tbody>\n",
       "</table>\n",
       "</div>"
      ],
      "text/plain": [
       "        a   b     c\n",
       "first   1   2   NaN\n",
       "second  5  10  20.0"
      ]
     },
     "execution_count": 4,
     "metadata": {},
     "output_type": "execute_result"
    }
   ],
   "source": [
    "data = [{'a': 1, 'b': 2},{'a': 5, 'b': 10, 'c': 20}]\n",
    "df = pd.DataFrame(data, index=['first', 'second'])\n",
    "df"
   ]
  },
  {
   "cell_type": "markdown",
   "metadata": {},
   "source": [
    "* Series"
   ]
  },
  {
   "cell_type": "code",
   "execution_count": 5,
   "metadata": {},
   "outputs": [
    {
     "data": {
      "text/html": [
       "<div>\n",
       "<style scoped>\n",
       "    .dataframe tbody tr th:only-of-type {\n",
       "        vertical-align: middle;\n",
       "    }\n",
       "\n",
       "    .dataframe tbody tr th {\n",
       "        vertical-align: top;\n",
       "    }\n",
       "\n",
       "    .dataframe thead th {\n",
       "        text-align: right;\n",
       "    }\n",
       "</style>\n",
       "<table border=\"1\" class=\"dataframe\">\n",
       "  <thead>\n",
       "    <tr style=\"text-align: right;\">\n",
       "      <th></th>\n",
       "      <th>one</th>\n",
       "      <th>two</th>\n",
       "    </tr>\n",
       "  </thead>\n",
       "  <tbody>\n",
       "    <tr>\n",
       "      <th>a</th>\n",
       "      <td>1.0</td>\n",
       "      <td>1</td>\n",
       "    </tr>\n",
       "    <tr>\n",
       "      <th>b</th>\n",
       "      <td>2.0</td>\n",
       "      <td>2</td>\n",
       "    </tr>\n",
       "    <tr>\n",
       "      <th>c</th>\n",
       "      <td>3.0</td>\n",
       "      <td>3</td>\n",
       "    </tr>\n",
       "    <tr>\n",
       "      <th>d</th>\n",
       "      <td>NaN</td>\n",
       "      <td>4</td>\n",
       "    </tr>\n",
       "  </tbody>\n",
       "</table>\n",
       "</div>"
      ],
      "text/plain": [
       "   one  two\n",
       "a  1.0    1\n",
       "b  2.0    2\n",
       "c  3.0    3\n",
       "d  NaN    4"
      ]
     },
     "execution_count": 5,
     "metadata": {},
     "output_type": "execute_result"
    }
   ],
   "source": [
    "d = {'one' : pd.Series([1, 2, 3], index=['a', 'b', 'c']),\n",
    "'two' : pd.Series([1, 2, 3, 4], index=['a', 'b', 'c', 'd'])}\n",
    "\n",
    "df = pd.DataFrame(d)\n",
    "df"
   ]
  },
  {
   "cell_type": "markdown",
   "metadata": {},
   "source": [
    "## DataFrame元素访问"
   ]
  },
  {
   "cell_type": "markdown",
   "metadata": {},
   "source": [
    "|index函数 | 说明 |\n",
    "| --- | --- |\n",
    "| `df[val]` | 选择列，布尔选择，切片 |\n",
    "| `df.loc[val]` | 根据label选择行 |\n",
    "| `df.loc[:,val]` | 根据label选择列 |\n",
    "| `df.loc[val1,val2]` | 根据label选择特定元素\\(给定行列\\) |\n",
    "| `df.iloc[where]` | 根据index整数选择行 |\n",
    "| `df.iloc[:,where]` | 根据index整数选择列 |\n",
    "| `df.iloc[where_i,where_j]` | 根据index整数选择特定元素\\(给定行列\\) |\n",
    "| `df.at[label_i,label_j]` | 根据lable选择特定位置的元素值 |\n",
    "| `df.iat[i,j]` | 根据index整数选择特定位置的整数值 |\n",
    "| `reindex` | 重写写index |\n",
    "| `get_value,set_Value` | 根据label获取值 |"
   ]
  },
  {
   "cell_type": "markdown",
   "metadata": {},
   "source": [
    "### 列的选择、添加和删除"
   ]
  },
  {
   "cell_type": "code",
   "execution_count": 17,
   "metadata": {},
   "outputs": [
    {
     "name": "stdout",
     "output_type": "stream",
     "text": [
      "----选择列------\n",
      "a    1.0\n",
      "b    2.0\n",
      "c    3.0\n",
      "d    NaN\n",
      "Name: one, dtype: float64\n",
      "\n",
      "\n",
      "----条件选择列------\n",
      "   one  two\n",
      "c  3.0    3\n",
      "d  NaN    4\n",
      "\n",
      "\n",
      "----添加列------\n",
      "   one  two  three  four\n",
      "a  1.0    1   10.0   2.0\n",
      "b  2.0    2   20.0   4.0\n",
      "c  3.0    3    NaN   6.0\n",
      "d  NaN    4   30.0   NaN\n",
      "\n",
      "\n",
      "----删除列------\n",
      "   one  two  four\n",
      "a  1.0    1   2.0\n",
      "b  2.0    2   4.0\n",
      "c  3.0    3   6.0\n",
      "d  NaN    4   NaN\n"
     ]
    }
   ],
   "source": [
    "d = {'one' : pd.Series([1, 2, 3], index=['a', 'b', 'c']),\n",
    "      'two' : pd.Series([1, 2, 3, 4], index=['a', 'b', 'c', 'd'])}\n",
    "\n",
    "df = pd.DataFrame(d)\n",
    "\n",
    "print (\"----选择列------\")\n",
    "print(df['one'])\n",
    "print(\"\\n\")  \n",
    "\n",
    "print (\"----条件选择列------\")\n",
    "k = df[df['two']>2]\n",
    "print(k)\n",
    "print(\"\\n\")\n",
    "\n",
    "print (\"----添加列------\")\n",
    "df['three'] = pd.Series([10,20,30], index = ['a','b','d'])\n",
    "df['four'] = df['one'] + df['two']\n",
    "print(df)\n",
    "print(\"\\n\")\n",
    "\n",
    "print (\"----删除列------\")\n",
    "df.pop('three')\n",
    "print(df)"
   ]
  },
  {
   "cell_type": "markdown",
   "metadata": {},
   "source": [
    "### 行的选择、添加和删除"
   ]
  },
  {
   "cell_type": "code",
   "execution_count": 14,
   "metadata": {},
   "outputs": [
    {
     "name": "stdout",
     "output_type": "stream",
     "text": [
      "----选择行------\n",
      "----选择行(按照标签)------\n",
      "one    2.0\n",
      "two    2.0\n",
      "Name: b, dtype: float64\n",
      "----选择行(按照index)------\n",
      "one    3.0\n",
      "two    3.0\n",
      "Name: c, dtype: float64\n",
      "\n",
      "\n",
      "----添加行------\n",
      "   one  two\n",
      "a  1.0    1\n",
      "b  2.0    2\n",
      "c  3.0    3\n",
      "d  NaN    4\n",
      "e  5.0    6\n",
      "f  7.0    8\n",
      "\n",
      "\n",
      "----删除行（按照标签）------\n",
      "   one  two\n",
      "a  1.0    1\n",
      "b  2.0    2\n",
      "c  3.0    3\n",
      "d  NaN    4\n",
      "f  7.0    8\n"
     ]
    }
   ],
   "source": [
    "d = {'one' : pd.Series([1, 2, 3], index=['a', 'b', 'c']),\n",
    "      'two' : pd.Series([1, 2, 3, 4], index=['a', 'b', 'c', 'd'])}\n",
    "\n",
    "df = pd.DataFrame(d)\n",
    "\n",
    "print (\"----选择行------\")\n",
    "print (\"----选择行(按照标签)------\")\n",
    "print(df.loc['b'])\n",
    "print (\"----选择行(按照index)------\")\n",
    "print(df.iloc[2])\n",
    "print(\"\\n\")  \n",
    "\n",
    "print (\"----添加行------\")\n",
    "df2 = pd.DataFrame([[5, 6], [7, 8]], index = ['e','f'], columns = ['one','two'])\n",
    "df = df.append(df2)\n",
    "print(df)\n",
    "print(\"\\n\")\n",
    "\n",
    "print (\"----删除行（按照标签）------\")\n",
    "df = df.drop('e')  \n",
    "print(df)"
   ]
  },
  {
   "cell_type": "markdown",
   "metadata": {},
   "source": [
    "### 行、列结合"
   ]
  },
  {
   "cell_type": "markdown",
   "metadata": {},
   "source": [
    "```python\n",
    "# 查询出所有12岁以上的女生姓名、身高和体重\n",
    "print(student[(student['Sex']=='F') & (student['Age']>12)][['Name','Height','Weight']])\n",
    "```"
   ]
  },
  {
   "cell_type": "markdown",
   "metadata": {},
   "source": [
    "# Pandas属性"
   ]
  },
  {
   "cell_type": "markdown",
   "metadata": {},
   "source": [
    "|属性|描述|\n",
    "|------|------|\n",
    "|axes|返回行轴标签列表。|\n",
    "|T|转置行和列(Dataframe)|\n",
    "|dtype||\n",
    "|empty|如果系列为空，则返回True|\n",
    "|ndim|返回底层数据的维数，默认定义：1|\n",
    "|size||\n",
    "|values|将系列作为ndarray返回。|\n",
    "|head()||\n",
    "|tail()||"
   ]
  },
  {
   "cell_type": "markdown",
   "metadata": {},
   "source": [
    "# Pandas迭代循环  \n",
    "\n",
    "**不要尝试在迭代时修改任何对象。迭代是用于读取，迭代器返回原始对象(视图)的副本，因此更改将不会反映在原始对象上。**"
   ]
  },
  {
   "cell_type": "markdown",
   "metadata": {},
   "source": [
    "## 迭代行  \n",
    "* iteritems() - 迭代(key，value)对  \n",
    "* iterrows() - 将行迭代为(索引，系列)对  \n",
    "* itertuples() - 以namedtuples的形式迭代行"
   ]
  },
  {
   "cell_type": "code",
   "execution_count": 40,
   "metadata": {},
   "outputs": [
    {
     "name": "stdout",
     "output_type": "stream",
     "text": [
      "col1 0    1.062736\n",
      "1   -1.679791\n",
      "2   -1.250271\n",
      "3   -1.280895\n",
      "Name: col1, dtype: float64\n",
      "col2 0    0.018055\n",
      "1    0.812423\n",
      "2    0.615135\n",
      "3    0.324610\n",
      "Name: col2, dtype: float64\n",
      "col3 0    0.022798\n",
      "1   -0.625889\n",
      "2   -0.121395\n",
      "3    0.670569\n",
      "Name: col3, dtype: float64\n"
     ]
    }
   ],
   "source": [
    "df = pd.DataFrame(np.random.randn(4,3),columns=['col1','col2','col3'])\n",
    "for key,value in df.iteritems():\n",
    "    print (key,value)"
   ]
  },
  {
   "cell_type": "code",
   "execution_count": 41,
   "metadata": {},
   "outputs": [
    {
     "name": "stdout",
     "output_type": "stream",
     "text": [
      "0 col1    1.062736\n",
      "col2    0.018055\n",
      "col3    0.022798\n",
      "Name: 0, dtype: float64\n",
      "1 col1   -1.679791\n",
      "col2    0.812423\n",
      "col3   -0.625889\n",
      "Name: 1, dtype: float64\n",
      "2 col1   -1.250271\n",
      "col2    0.615135\n",
      "col3   -0.121395\n",
      "Name: 2, dtype: float64\n",
      "3 col1   -1.280895\n",
      "col2    0.324610\n",
      "col3    0.670569\n",
      "Name: 3, dtype: float64\n"
     ]
    }
   ],
   "source": [
    "for row_index,row in df.iterrows():\n",
    "    print (row_index,row)"
   ]
  },
  {
   "cell_type": "code",
   "execution_count": 42,
   "metadata": {},
   "outputs": [
    {
     "name": "stdout",
     "output_type": "stream",
     "text": [
      "Pandas(Index=0, col1=1.0627364666653065, col2=0.01805510965628009, col3=0.02279839968937127)\n",
      "Pandas(Index=1, col1=-1.6797914849149362, col2=0.8124230006825046, col3=-0.625888706466102)\n",
      "Pandas(Index=2, col1=-1.2502708184687266, col2=0.615135458353951, col3=-0.12139461101379515)\n",
      "Pandas(Index=3, col1=-1.2808952713375565, col2=0.3246098059252541, col3=0.6705693906174532)\n"
     ]
    }
   ],
   "source": [
    "for row in df.itertuples():\n",
    "    print (row)"
   ]
  },
  {
   "cell_type": "markdown",
   "metadata": {},
   "source": [
    "# Pandas排序"
   ]
  },
  {
   "cell_type": "markdown",
   "metadata": {},
   "source": [
    "## 按照标签排序sort_index()--默认行"
   ]
  },
  {
   "cell_type": "code",
   "execution_count": 43,
   "metadata": {},
   "outputs": [
    {
     "data": {
      "text/html": [
       "<div>\n",
       "<style scoped>\n",
       "    .dataframe tbody tr th:only-of-type {\n",
       "        vertical-align: middle;\n",
       "    }\n",
       "\n",
       "    .dataframe tbody tr th {\n",
       "        vertical-align: top;\n",
       "    }\n",
       "\n",
       "    .dataframe thead th {\n",
       "        text-align: right;\n",
       "    }\n",
       "</style>\n",
       "<table border=\"1\" class=\"dataframe\">\n",
       "  <thead>\n",
       "    <tr style=\"text-align: right;\">\n",
       "      <th></th>\n",
       "      <th>col2</th>\n",
       "      <th>col1</th>\n",
       "    </tr>\n",
       "  </thead>\n",
       "  <tbody>\n",
       "    <tr>\n",
       "      <th>1</th>\n",
       "      <td>0.149161</td>\n",
       "      <td>0.327064</td>\n",
       "    </tr>\n",
       "    <tr>\n",
       "      <th>4</th>\n",
       "      <td>-0.352962</td>\n",
       "      <td>-0.905528</td>\n",
       "    </tr>\n",
       "    <tr>\n",
       "      <th>6</th>\n",
       "      <td>1.676185</td>\n",
       "      <td>0.680996</td>\n",
       "    </tr>\n",
       "    <tr>\n",
       "      <th>2</th>\n",
       "      <td>-0.703718</td>\n",
       "      <td>0.102080</td>\n",
       "    </tr>\n",
       "    <tr>\n",
       "      <th>3</th>\n",
       "      <td>1.195056</td>\n",
       "      <td>-0.277959</td>\n",
       "    </tr>\n",
       "    <tr>\n",
       "      <th>5</th>\n",
       "      <td>-0.052165</td>\n",
       "      <td>0.353684</td>\n",
       "    </tr>\n",
       "    <tr>\n",
       "      <th>9</th>\n",
       "      <td>-0.408311</td>\n",
       "      <td>-1.810430</td>\n",
       "    </tr>\n",
       "    <tr>\n",
       "      <th>8</th>\n",
       "      <td>-0.903308</td>\n",
       "      <td>1.054045</td>\n",
       "    </tr>\n",
       "    <tr>\n",
       "      <th>0</th>\n",
       "      <td>-0.980877</td>\n",
       "      <td>0.352079</td>\n",
       "    </tr>\n",
       "    <tr>\n",
       "      <th>7</th>\n",
       "      <td>0.665982</td>\n",
       "      <td>1.065502</td>\n",
       "    </tr>\n",
       "  </tbody>\n",
       "</table>\n",
       "</div>"
      ],
      "text/plain": [
       "       col2      col1\n",
       "1  0.149161  0.327064\n",
       "4 -0.352962 -0.905528\n",
       "6  1.676185  0.680996\n",
       "2 -0.703718  0.102080\n",
       "3  1.195056 -0.277959\n",
       "5 -0.052165  0.353684\n",
       "9 -0.408311 -1.810430\n",
       "8 -0.903308  1.054045\n",
       "0 -0.980877  0.352079\n",
       "7  0.665982  1.065502"
      ]
     },
     "execution_count": 43,
     "metadata": {},
     "output_type": "execute_result"
    }
   ],
   "source": [
    "unsorted_df=pd.DataFrame(np.random.randn(10,2),index=[1,4,6,2,3,5,9,8,0,7],columns=['col2','col1'])\n",
    "unsorted_df"
   ]
  },
  {
   "cell_type": "code",
   "execution_count": 45,
   "metadata": {},
   "outputs": [
    {
     "data": {
      "text/html": [
       "<div>\n",
       "<style scoped>\n",
       "    .dataframe tbody tr th:only-of-type {\n",
       "        vertical-align: middle;\n",
       "    }\n",
       "\n",
       "    .dataframe tbody tr th {\n",
       "        vertical-align: top;\n",
       "    }\n",
       "\n",
       "    .dataframe thead th {\n",
       "        text-align: right;\n",
       "    }\n",
       "</style>\n",
       "<table border=\"1\" class=\"dataframe\">\n",
       "  <thead>\n",
       "    <tr style=\"text-align: right;\">\n",
       "      <th></th>\n",
       "      <th>col2</th>\n",
       "      <th>col1</th>\n",
       "    </tr>\n",
       "  </thead>\n",
       "  <tbody>\n",
       "    <tr>\n",
       "      <th>0</th>\n",
       "      <td>-0.980877</td>\n",
       "      <td>0.352079</td>\n",
       "    </tr>\n",
       "    <tr>\n",
       "      <th>1</th>\n",
       "      <td>0.149161</td>\n",
       "      <td>0.327064</td>\n",
       "    </tr>\n",
       "    <tr>\n",
       "      <th>2</th>\n",
       "      <td>-0.703718</td>\n",
       "      <td>0.102080</td>\n",
       "    </tr>\n",
       "    <tr>\n",
       "      <th>3</th>\n",
       "      <td>1.195056</td>\n",
       "      <td>-0.277959</td>\n",
       "    </tr>\n",
       "    <tr>\n",
       "      <th>4</th>\n",
       "      <td>-0.352962</td>\n",
       "      <td>-0.905528</td>\n",
       "    </tr>\n",
       "    <tr>\n",
       "      <th>5</th>\n",
       "      <td>-0.052165</td>\n",
       "      <td>0.353684</td>\n",
       "    </tr>\n",
       "    <tr>\n",
       "      <th>6</th>\n",
       "      <td>1.676185</td>\n",
       "      <td>0.680996</td>\n",
       "    </tr>\n",
       "    <tr>\n",
       "      <th>7</th>\n",
       "      <td>0.665982</td>\n",
       "      <td>1.065502</td>\n",
       "    </tr>\n",
       "    <tr>\n",
       "      <th>8</th>\n",
       "      <td>-0.903308</td>\n",
       "      <td>1.054045</td>\n",
       "    </tr>\n",
       "    <tr>\n",
       "      <th>9</th>\n",
       "      <td>-0.408311</td>\n",
       "      <td>-1.810430</td>\n",
       "    </tr>\n",
       "  </tbody>\n",
       "</table>\n",
       "</div>"
      ],
      "text/plain": [
       "       col2      col1\n",
       "0 -0.980877  0.352079\n",
       "1  0.149161  0.327064\n",
       "2 -0.703718  0.102080\n",
       "3  1.195056 -0.277959\n",
       "4 -0.352962 -0.905528\n",
       "5 -0.052165  0.353684\n",
       "6  1.676185  0.680996\n",
       "7  0.665982  1.065502\n",
       "8 -0.903308  1.054045\n",
       "9 -0.408311 -1.810430"
      ]
     },
     "execution_count": 45,
     "metadata": {},
     "output_type": "execute_result"
    }
   ],
   "source": [
    "unsorted_df.sort_index() # 照升序对行标签进行排序。"
   ]
  },
  {
   "cell_type": "code",
   "execution_count": 46,
   "metadata": {},
   "outputs": [
    {
     "data": {
      "text/html": [
       "<div>\n",
       "<style scoped>\n",
       "    .dataframe tbody tr th:only-of-type {\n",
       "        vertical-align: middle;\n",
       "    }\n",
       "\n",
       "    .dataframe tbody tr th {\n",
       "        vertical-align: top;\n",
       "    }\n",
       "\n",
       "    .dataframe thead th {\n",
       "        text-align: right;\n",
       "    }\n",
       "</style>\n",
       "<table border=\"1\" class=\"dataframe\">\n",
       "  <thead>\n",
       "    <tr style=\"text-align: right;\">\n",
       "      <th></th>\n",
       "      <th>col2</th>\n",
       "      <th>col1</th>\n",
       "    </tr>\n",
       "  </thead>\n",
       "  <tbody>\n",
       "    <tr>\n",
       "      <th>9</th>\n",
       "      <td>-0.408311</td>\n",
       "      <td>-1.810430</td>\n",
       "    </tr>\n",
       "    <tr>\n",
       "      <th>8</th>\n",
       "      <td>-0.903308</td>\n",
       "      <td>1.054045</td>\n",
       "    </tr>\n",
       "    <tr>\n",
       "      <th>7</th>\n",
       "      <td>0.665982</td>\n",
       "      <td>1.065502</td>\n",
       "    </tr>\n",
       "    <tr>\n",
       "      <th>6</th>\n",
       "      <td>1.676185</td>\n",
       "      <td>0.680996</td>\n",
       "    </tr>\n",
       "    <tr>\n",
       "      <th>5</th>\n",
       "      <td>-0.052165</td>\n",
       "      <td>0.353684</td>\n",
       "    </tr>\n",
       "    <tr>\n",
       "      <th>4</th>\n",
       "      <td>-0.352962</td>\n",
       "      <td>-0.905528</td>\n",
       "    </tr>\n",
       "    <tr>\n",
       "      <th>3</th>\n",
       "      <td>1.195056</td>\n",
       "      <td>-0.277959</td>\n",
       "    </tr>\n",
       "    <tr>\n",
       "      <th>2</th>\n",
       "      <td>-0.703718</td>\n",
       "      <td>0.102080</td>\n",
       "    </tr>\n",
       "    <tr>\n",
       "      <th>1</th>\n",
       "      <td>0.149161</td>\n",
       "      <td>0.327064</td>\n",
       "    </tr>\n",
       "    <tr>\n",
       "      <th>0</th>\n",
       "      <td>-0.980877</td>\n",
       "      <td>0.352079</td>\n",
       "    </tr>\n",
       "  </tbody>\n",
       "</table>\n",
       "</div>"
      ],
      "text/plain": [
       "       col2      col1\n",
       "9 -0.408311 -1.810430\n",
       "8 -0.903308  1.054045\n",
       "7  0.665982  1.065502\n",
       "6  1.676185  0.680996\n",
       "5 -0.052165  0.353684\n",
       "4 -0.352962 -0.905528\n",
       "3  1.195056 -0.277959\n",
       "2 -0.703718  0.102080\n",
       "1  0.149161  0.327064\n",
       "0 -0.980877  0.352079"
      ]
     },
     "execution_count": 46,
     "metadata": {},
     "output_type": "execute_result"
    }
   ],
   "source": [
    "unsorted_df.sort_index(ascending=False)"
   ]
  },
  {
   "cell_type": "code",
   "execution_count": 47,
   "metadata": {},
   "outputs": [
    {
     "data": {
      "text/html": [
       "<div>\n",
       "<style scoped>\n",
       "    .dataframe tbody tr th:only-of-type {\n",
       "        vertical-align: middle;\n",
       "    }\n",
       "\n",
       "    .dataframe tbody tr th {\n",
       "        vertical-align: top;\n",
       "    }\n",
       "\n",
       "    .dataframe thead th {\n",
       "        text-align: right;\n",
       "    }\n",
       "</style>\n",
       "<table border=\"1\" class=\"dataframe\">\n",
       "  <thead>\n",
       "    <tr style=\"text-align: right;\">\n",
       "      <th></th>\n",
       "      <th>col1</th>\n",
       "      <th>col2</th>\n",
       "    </tr>\n",
       "  </thead>\n",
       "  <tbody>\n",
       "    <tr>\n",
       "      <th>1</th>\n",
       "      <td>0.327064</td>\n",
       "      <td>0.149161</td>\n",
       "    </tr>\n",
       "    <tr>\n",
       "      <th>4</th>\n",
       "      <td>-0.905528</td>\n",
       "      <td>-0.352962</td>\n",
       "    </tr>\n",
       "    <tr>\n",
       "      <th>6</th>\n",
       "      <td>0.680996</td>\n",
       "      <td>1.676185</td>\n",
       "    </tr>\n",
       "    <tr>\n",
       "      <th>2</th>\n",
       "      <td>0.102080</td>\n",
       "      <td>-0.703718</td>\n",
       "    </tr>\n",
       "    <tr>\n",
       "      <th>3</th>\n",
       "      <td>-0.277959</td>\n",
       "      <td>1.195056</td>\n",
       "    </tr>\n",
       "    <tr>\n",
       "      <th>5</th>\n",
       "      <td>0.353684</td>\n",
       "      <td>-0.052165</td>\n",
       "    </tr>\n",
       "    <tr>\n",
       "      <th>9</th>\n",
       "      <td>-1.810430</td>\n",
       "      <td>-0.408311</td>\n",
       "    </tr>\n",
       "    <tr>\n",
       "      <th>8</th>\n",
       "      <td>1.054045</td>\n",
       "      <td>-0.903308</td>\n",
       "    </tr>\n",
       "    <tr>\n",
       "      <th>0</th>\n",
       "      <td>0.352079</td>\n",
       "      <td>-0.980877</td>\n",
       "    </tr>\n",
       "    <tr>\n",
       "      <th>7</th>\n",
       "      <td>1.065502</td>\n",
       "      <td>0.665982</td>\n",
       "    </tr>\n",
       "  </tbody>\n",
       "</table>\n",
       "</div>"
      ],
      "text/plain": [
       "       col1      col2\n",
       "1  0.327064  0.149161\n",
       "4 -0.905528 -0.352962\n",
       "6  0.680996  1.676185\n",
       "2  0.102080 -0.703718\n",
       "3 -0.277959  1.195056\n",
       "5  0.353684 -0.052165\n",
       "9 -1.810430 -0.408311\n",
       "8  1.054045 -0.903308\n",
       "0  0.352079 -0.980877\n",
       "7  1.065502  0.665982"
      ]
     },
     "execution_count": 47,
     "metadata": {},
     "output_type": "execute_result"
    }
   ],
   "source": [
    "unsorted_df.sort_index(axis=1)"
   ]
  },
  {
   "cell_type": "markdown",
   "metadata": {},
   "source": [
    "## 按值排序sort_values(by=column name)"
   ]
  },
  {
   "cell_type": "code",
   "execution_count": 48,
   "metadata": {},
   "outputs": [
    {
     "data": {
      "text/html": [
       "<div>\n",
       "<style scoped>\n",
       "    .dataframe tbody tr th:only-of-type {\n",
       "        vertical-align: middle;\n",
       "    }\n",
       "\n",
       "    .dataframe tbody tr th {\n",
       "        vertical-align: top;\n",
       "    }\n",
       "\n",
       "    .dataframe thead th {\n",
       "        text-align: right;\n",
       "    }\n",
       "</style>\n",
       "<table border=\"1\" class=\"dataframe\">\n",
       "  <thead>\n",
       "    <tr style=\"text-align: right;\">\n",
       "      <th></th>\n",
       "      <th>col2</th>\n",
       "      <th>col1</th>\n",
       "    </tr>\n",
       "  </thead>\n",
       "  <tbody>\n",
       "    <tr>\n",
       "      <th>9</th>\n",
       "      <td>-0.408311</td>\n",
       "      <td>-1.810430</td>\n",
       "    </tr>\n",
       "    <tr>\n",
       "      <th>4</th>\n",
       "      <td>-0.352962</td>\n",
       "      <td>-0.905528</td>\n",
       "    </tr>\n",
       "    <tr>\n",
       "      <th>3</th>\n",
       "      <td>1.195056</td>\n",
       "      <td>-0.277959</td>\n",
       "    </tr>\n",
       "    <tr>\n",
       "      <th>2</th>\n",
       "      <td>-0.703718</td>\n",
       "      <td>0.102080</td>\n",
       "    </tr>\n",
       "    <tr>\n",
       "      <th>1</th>\n",
       "      <td>0.149161</td>\n",
       "      <td>0.327064</td>\n",
       "    </tr>\n",
       "    <tr>\n",
       "      <th>0</th>\n",
       "      <td>-0.980877</td>\n",
       "      <td>0.352079</td>\n",
       "    </tr>\n",
       "    <tr>\n",
       "      <th>5</th>\n",
       "      <td>-0.052165</td>\n",
       "      <td>0.353684</td>\n",
       "    </tr>\n",
       "    <tr>\n",
       "      <th>6</th>\n",
       "      <td>1.676185</td>\n",
       "      <td>0.680996</td>\n",
       "    </tr>\n",
       "    <tr>\n",
       "      <th>8</th>\n",
       "      <td>-0.903308</td>\n",
       "      <td>1.054045</td>\n",
       "    </tr>\n",
       "    <tr>\n",
       "      <th>7</th>\n",
       "      <td>0.665982</td>\n",
       "      <td>1.065502</td>\n",
       "    </tr>\n",
       "  </tbody>\n",
       "</table>\n",
       "</div>"
      ],
      "text/plain": [
       "       col2      col1\n",
       "9 -0.408311 -1.810430\n",
       "4 -0.352962 -0.905528\n",
       "3  1.195056 -0.277959\n",
       "2 -0.703718  0.102080\n",
       "1  0.149161  0.327064\n",
       "0 -0.980877  0.352079\n",
       "5 -0.052165  0.353684\n",
       "6  1.676185  0.680996\n",
       "8 -0.903308  1.054045\n",
       "7  0.665982  1.065502"
      ]
     },
     "execution_count": 48,
     "metadata": {},
     "output_type": "execute_result"
    }
   ],
   "source": [
    "unsorted_df.sort_values(by='col1')"
   ]
  },
  {
   "cell_type": "markdown",
   "metadata": {},
   "source": [
    "# Pandas字符串和文本数据"
   ]
  },
  {
   "cell_type": "markdown",
   "metadata": {},
   "source": [
    "|属性|说明|\n",
    "|---|---|\n",
    "|df.str.lower()|字符串转换为小写|\n",
    "|df.str.upper()|字符串转换为大写|\n",
    "|df.str.len()|字符串长度|\n",
    "|df.str.strip()|从两侧的系列/索引中的每个字符串中删除空格|\n",
    "|df.str.split(' ')|用给定的模式拆分每个字符串|\n",
    "|df.str.cat(sep=' ')|使用给定的分隔符连接系列/索引元素。|\n",
    "|df.str.contains(pattern)|如果元素中包含子字符串，则返回每个元素的布尔值True|\n",
    "|df.str.replace(a,b)|值a替换为值b。|\n",
    "|df.str.repeat(value)|重复每个元素指定的次数。|\n",
    "|df.str.count(pattern)|返回模式中每个元素的出现总数。|\n",
    "|df.str.startswith(pattern)|如果系列/索引中的元素以模式开始，则返回true。|\n",
    "|df.str.find(pattern)|返回模式第一次出现的位置。|\n",
    "|df.str.findall(pattern)|返回模式的所有出现的列表。|\n",
    "|df.str.swapcase|变换字母大小写。|\n",
    "|df.str.islower()|检查系列/索引中每个字符串中的所有字符是否小写，返回布尔值|\n",
    "|df.str.isupper()|检查系列/索引中每个字符串中的所有字符是否大写，返回布尔值|\n",
    "|df.str.isnumeric()|检查系列/索引中每个字符串中的所有字符是否为数字，返回布尔值。|"
   ]
  },
  {
   "cell_type": "code",
   "execution_count": null,
   "metadata": {},
   "outputs": [],
   "source": []
  },
  {
   "cell_type": "code",
   "execution_count": null,
   "metadata": {},
   "outputs": [],
   "source": []
  },
  {
   "cell_type": "code",
   "execution_count": null,
   "metadata": {},
   "outputs": [],
   "source": []
  },
  {
   "cell_type": "code",
   "execution_count": null,
   "metadata": {},
   "outputs": [],
   "source": []
  },
  {
   "cell_type": "code",
   "execution_count": null,
   "metadata": {},
   "outputs": [],
   "source": []
  },
  {
   "cell_type": "markdown",
   "metadata": {},
   "source": [
    "# Pandas函数应用"
   ]
  },
  {
   "cell_type": "markdown",
   "metadata": {},
   "source": [
    "## 表格函数应用pipe()  \n",
    "\n",
    "为DataFrame中的所有元素同时进行操作"
   ]
  },
  {
   "cell_type": "code",
   "execution_count": 28,
   "metadata": {},
   "outputs": [
    {
     "data": {
      "text/html": [
       "<div>\n",
       "<style scoped>\n",
       "    .dataframe tbody tr th:only-of-type {\n",
       "        vertical-align: middle;\n",
       "    }\n",
       "\n",
       "    .dataframe tbody tr th {\n",
       "        vertical-align: top;\n",
       "    }\n",
       "\n",
       "    .dataframe thead th {\n",
       "        text-align: right;\n",
       "    }\n",
       "</style>\n",
       "<table border=\"1\" class=\"dataframe\">\n",
       "  <thead>\n",
       "    <tr style=\"text-align: right;\">\n",
       "      <th></th>\n",
       "      <th>col1</th>\n",
       "      <th>col2</th>\n",
       "      <th>col3</th>\n",
       "    </tr>\n",
       "  </thead>\n",
       "  <tbody>\n",
       "    <tr>\n",
       "      <th>0</th>\n",
       "      <td>4.622851</td>\n",
       "      <td>4.999779</td>\n",
       "      <td>6.050114</td>\n",
       "    </tr>\n",
       "    <tr>\n",
       "      <th>1</th>\n",
       "      <td>4.831301</td>\n",
       "      <td>5.797876</td>\n",
       "      <td>5.552524</td>\n",
       "    </tr>\n",
       "    <tr>\n",
       "      <th>2</th>\n",
       "      <td>3.846907</td>\n",
       "      <td>6.641552</td>\n",
       "      <td>3.561022</td>\n",
       "    </tr>\n",
       "    <tr>\n",
       "      <th>3</th>\n",
       "      <td>7.027740</td>\n",
       "      <td>3.634683</td>\n",
       "      <td>5.072149</td>\n",
       "    </tr>\n",
       "    <tr>\n",
       "      <th>4</th>\n",
       "      <td>5.613152</td>\n",
       "      <td>6.489166</td>\n",
       "      <td>5.221297</td>\n",
       "    </tr>\n",
       "  </tbody>\n",
       "</table>\n",
       "</div>"
      ],
      "text/plain": [
       "       col1      col2      col3\n",
       "0  4.622851  4.999779  6.050114\n",
       "1  4.831301  5.797876  5.552524\n",
       "2  3.846907  6.641552  3.561022\n",
       "3  7.027740  3.634683  5.072149\n",
       "4  5.613152  6.489166  5.221297"
      ]
     },
     "execution_count": 28,
     "metadata": {},
     "output_type": "execute_result"
    }
   ],
   "source": [
    "def adder(e,e2):\n",
    "    return e+e2\n",
    "\n",
    "df = pd.DataFrame(np.random.randn(5,3),columns=['col1','col2','col3'])\n",
    "df.pipe(adder,5)"
   ]
  },
  {
   "cell_type": "markdown",
   "metadata": {},
   "source": [
    "## 行或列合理函数应用apply()  \n",
    "\n",
    "可以使用apply()方法沿DataFrame或Panel的轴应用任意函数，它与描述性统计方法一样，采用可选的axis参数。 默认情况下，操作按列执行，将每列列为数组。"
   ]
  },
  {
   "cell_type": "code",
   "execution_count": 29,
   "metadata": {},
   "outputs": [
    {
     "data": {
      "text/plain": [
       "col1    0.188390\n",
       "col2    0.512611\n",
       "col3    0.091421\n",
       "dtype: float64"
      ]
     },
     "execution_count": 29,
     "metadata": {},
     "output_type": "execute_result"
    }
   ],
   "source": [
    "df.apply(np.mean)"
   ]
  },
  {
   "cell_type": "code",
   "execution_count": 31,
   "metadata": {},
   "outputs": [
    {
     "data": {
      "text/plain": [
       "0    0.224248\n",
       "1    0.393901\n",
       "2   -0.316840\n",
       "3    0.244857\n",
       "4    0.774538\n",
       "dtype: float64"
      ]
     },
     "execution_count": 31,
     "metadata": {},
     "output_type": "execute_result"
    }
   ],
   "source": [
    "df.apply(np.mean,axis=1)"
   ]
  },
  {
   "cell_type": "code",
   "execution_count": 32,
   "metadata": {},
   "outputs": [
    {
     "data": {
      "text/plain": [
       "col1    3.180833\n",
       "col2    3.006870\n",
       "col3    2.489092\n",
       "dtype: float64"
      ]
     },
     "execution_count": 32,
     "metadata": {},
     "output_type": "execute_result"
    }
   ],
   "source": [
    "df.apply(lambda x: x.max() - x.min())"
   ]
  },
  {
   "cell_type": "markdown",
   "metadata": {},
   "source": [
    "## 元素合理函数应用applymap()  \n",
    "\n",
    "应用于每个元素"
   ]
  },
  {
   "cell_type": "code",
   "execution_count": 33,
   "metadata": {},
   "outputs": [
    {
     "data": {
      "text/plain": [
       "0    -37.714943\n",
       "1    -16.869911\n",
       "2   -115.309326\n",
       "3    202.773951\n",
       "4     61.315168\n",
       "Name: col1, dtype: float64"
      ]
     },
     "execution_count": 33,
     "metadata": {},
     "output_type": "execute_result"
    }
   ],
   "source": [
    "df['col1'].map(lambda x:x*100)"
   ]
  },
  {
   "cell_type": "code",
   "execution_count": 34,
   "metadata": {},
   "outputs": [
    {
     "data": {
      "text/html": [
       "<div>\n",
       "<style scoped>\n",
       "    .dataframe tbody tr th:only-of-type {\n",
       "        vertical-align: middle;\n",
       "    }\n",
       "\n",
       "    .dataframe tbody tr th {\n",
       "        vertical-align: top;\n",
       "    }\n",
       "\n",
       "    .dataframe thead th {\n",
       "        text-align: right;\n",
       "    }\n",
       "</style>\n",
       "<table border=\"1\" class=\"dataframe\">\n",
       "  <thead>\n",
       "    <tr style=\"text-align: right;\">\n",
       "      <th></th>\n",
       "      <th>col1</th>\n",
       "      <th>col2</th>\n",
       "      <th>col3</th>\n",
       "    </tr>\n",
       "  </thead>\n",
       "  <tbody>\n",
       "    <tr>\n",
       "      <th>0</th>\n",
       "      <td>-37.714943</td>\n",
       "      <td>-0.022090</td>\n",
       "      <td>105.011369</td>\n",
       "    </tr>\n",
       "    <tr>\n",
       "      <th>1</th>\n",
       "      <td>-16.869911</td>\n",
       "      <td>79.787650</td>\n",
       "      <td>55.252431</td>\n",
       "    </tr>\n",
       "    <tr>\n",
       "      <th>2</th>\n",
       "      <td>-115.309326</td>\n",
       "      <td>164.155219</td>\n",
       "      <td>-143.897783</td>\n",
       "    </tr>\n",
       "    <tr>\n",
       "      <th>3</th>\n",
       "      <td>202.773951</td>\n",
       "      <td>-136.531732</td>\n",
       "      <td>7.214886</td>\n",
       "    </tr>\n",
       "    <tr>\n",
       "      <th>4</th>\n",
       "      <td>61.315168</td>\n",
       "      <td>148.916643</td>\n",
       "      <td>22.129658</td>\n",
       "    </tr>\n",
       "  </tbody>\n",
       "</table>\n",
       "</div>"
      ],
      "text/plain": [
       "         col1        col2        col3\n",
       "0  -37.714943   -0.022090  105.011369\n",
       "1  -16.869911   79.787650   55.252431\n",
       "2 -115.309326  164.155219 -143.897783\n",
       "3  202.773951 -136.531732    7.214886\n",
       "4   61.315168  148.916643   22.129658"
      ]
     },
     "execution_count": 34,
     "metadata": {},
     "output_type": "execute_result"
    }
   ],
   "source": [
    "df.applymap(lambda x:x*100)"
   ]
  },
  {
   "cell_type": "markdown",
   "metadata": {},
   "source": [
    "# 重设行、列索引标签"
   ]
  },
  {
   "cell_type": "markdown",
   "metadata": {},
   "source": [
    "## reindex  \n",
    "\n",
    "重新排序现有数据以匹配一组新的标签  \n",
    "在没有标签数据的标签位置插入缺失值(NA)标记。"
   ]
  },
  {
   "cell_type": "code",
   "execution_count": 35,
   "metadata": {},
   "outputs": [
    {
     "data": {
      "text/html": [
       "<div>\n",
       "<style scoped>\n",
       "    .dataframe tbody tr th:only-of-type {\n",
       "        vertical-align: middle;\n",
       "    }\n",
       "\n",
       "    .dataframe tbody tr th {\n",
       "        vertical-align: top;\n",
       "    }\n",
       "\n",
       "    .dataframe thead th {\n",
       "        text-align: right;\n",
       "    }\n",
       "</style>\n",
       "<table border=\"1\" class=\"dataframe\">\n",
       "  <thead>\n",
       "    <tr style=\"text-align: right;\">\n",
       "      <th></th>\n",
       "      <th>A</th>\n",
       "      <th>C</th>\n",
       "      <th>B</th>\n",
       "    </tr>\n",
       "  </thead>\n",
       "  <tbody>\n",
       "    <tr>\n",
       "      <th>0</th>\n",
       "      <td>2016-01-01</td>\n",
       "      <td>Medium</td>\n",
       "      <td>NaN</td>\n",
       "    </tr>\n",
       "    <tr>\n",
       "      <th>2</th>\n",
       "      <td>2016-01-03</td>\n",
       "      <td>Low</td>\n",
       "      <td>NaN</td>\n",
       "    </tr>\n",
       "    <tr>\n",
       "      <th>5</th>\n",
       "      <td>2016-01-06</td>\n",
       "      <td>Low</td>\n",
       "      <td>NaN</td>\n",
       "    </tr>\n",
       "  </tbody>\n",
       "</table>\n",
       "</div>"
      ],
      "text/plain": [
       "           A       C   B\n",
       "0 2016-01-01  Medium NaN\n",
       "2 2016-01-03     Low NaN\n",
       "5 2016-01-06     Low NaN"
      ]
     },
     "execution_count": 35,
     "metadata": {},
     "output_type": "execute_result"
    }
   ],
   "source": [
    "N=20\n",
    "\n",
    "df = pd.DataFrame({\n",
    "   'A': pd.date_range(start='2016-01-01',periods=N,freq='D'),\n",
    "   'x': np.linspace(0,stop=N-1,num=N),\n",
    "   'y': np.random.rand(N),\n",
    "   'C': np.random.choice(['Low','Medium','High'],N).tolist(),\n",
    "   'D': np.random.normal(100, 10, size=(N)).tolist()\n",
    "})\n",
    "\n",
    "#reindex the DataFrame\n",
    "df_reindexed = df.reindex(index=[0,2,5], columns=['A', 'C', 'B'])\n",
    "df_reindexed"
   ]
  },
  {
   "cell_type": "markdown",
   "metadata": {},
   "source": [
    "## reindex_like  \n",
    "希望采取一个对象和重新索引，其轴被标记为与另一个对象相同。 "
   ]
  },
  {
   "cell_type": "code",
   "execution_count": 36,
   "metadata": {},
   "outputs": [
    {
     "data": {
      "text/html": [
       "<div>\n",
       "<style scoped>\n",
       "    .dataframe tbody tr th:only-of-type {\n",
       "        vertical-align: middle;\n",
       "    }\n",
       "\n",
       "    .dataframe tbody tr th {\n",
       "        vertical-align: top;\n",
       "    }\n",
       "\n",
       "    .dataframe thead th {\n",
       "        text-align: right;\n",
       "    }\n",
       "</style>\n",
       "<table border=\"1\" class=\"dataframe\">\n",
       "  <thead>\n",
       "    <tr style=\"text-align: right;\">\n",
       "      <th></th>\n",
       "      <th>col1</th>\n",
       "      <th>col2</th>\n",
       "      <th>col3</th>\n",
       "    </tr>\n",
       "  </thead>\n",
       "  <tbody>\n",
       "    <tr>\n",
       "      <th>0</th>\n",
       "      <td>-0.643333</td>\n",
       "      <td>-0.715371</td>\n",
       "      <td>1.699459</td>\n",
       "    </tr>\n",
       "    <tr>\n",
       "      <th>1</th>\n",
       "      <td>1.282837</td>\n",
       "      <td>-0.452558</td>\n",
       "      <td>0.393800</td>\n",
       "    </tr>\n",
       "    <tr>\n",
       "      <th>2</th>\n",
       "      <td>0.425741</td>\n",
       "      <td>-0.130047</td>\n",
       "      <td>-0.393733</td>\n",
       "    </tr>\n",
       "    <tr>\n",
       "      <th>3</th>\n",
       "      <td>-0.641060</td>\n",
       "      <td>0.171964</td>\n",
       "      <td>-0.840149</td>\n",
       "    </tr>\n",
       "    <tr>\n",
       "      <th>4</th>\n",
       "      <td>0.864998</td>\n",
       "      <td>-0.204861</td>\n",
       "      <td>-0.107073</td>\n",
       "    </tr>\n",
       "    <tr>\n",
       "      <th>5</th>\n",
       "      <td>-0.242107</td>\n",
       "      <td>-0.902483</td>\n",
       "      <td>0.797871</td>\n",
       "    </tr>\n",
       "    <tr>\n",
       "      <th>6</th>\n",
       "      <td>-0.289096</td>\n",
       "      <td>0.676978</td>\n",
       "      <td>-0.343184</td>\n",
       "    </tr>\n",
       "  </tbody>\n",
       "</table>\n",
       "</div>"
      ],
      "text/plain": [
       "       col1      col2      col3\n",
       "0 -0.643333 -0.715371  1.699459\n",
       "1  1.282837 -0.452558  0.393800\n",
       "2  0.425741 -0.130047 -0.393733\n",
       "3 -0.641060  0.171964 -0.840149\n",
       "4  0.864998 -0.204861 -0.107073\n",
       "5 -0.242107 -0.902483  0.797871\n",
       "6 -0.289096  0.676978 -0.343184"
      ]
     },
     "execution_count": 36,
     "metadata": {},
     "output_type": "execute_result"
    }
   ],
   "source": [
    "df1 = pd.DataFrame(np.random.randn(10,3),columns=['col1','col2','col3'])\n",
    "df2 = pd.DataFrame(np.random.randn(7,3),columns=['col1','col2','col3'])\n",
    "\n",
    "df1 = df1.reindex_like(df2)\n",
    "df1"
   ]
  },
  {
   "cell_type": "markdown",
   "metadata": {},
   "source": [
    "## rename  \n",
    "允许基于一些映射(字典或者系列)或任意函数来重新标记一个轴。"
   ]
  },
  {
   "cell_type": "code",
   "execution_count": 39,
   "metadata": {},
   "outputs": [
    {
     "data": {
      "text/html": [
       "<div>\n",
       "<style scoped>\n",
       "    .dataframe tbody tr th:only-of-type {\n",
       "        vertical-align: middle;\n",
       "    }\n",
       "\n",
       "    .dataframe tbody tr th {\n",
       "        vertical-align: top;\n",
       "    }\n",
       "\n",
       "    .dataframe thead th {\n",
       "        text-align: right;\n",
       "    }\n",
       "</style>\n",
       "<table border=\"1\" class=\"dataframe\">\n",
       "  <thead>\n",
       "    <tr style=\"text-align: right;\">\n",
       "      <th></th>\n",
       "      <th>c1</th>\n",
       "      <th>c2</th>\n",
       "      <th>col3</th>\n",
       "    </tr>\n",
       "  </thead>\n",
       "  <tbody>\n",
       "    <tr>\n",
       "      <th>apple</th>\n",
       "      <td>0.115432</td>\n",
       "      <td>0.258670</td>\n",
       "      <td>1.487743</td>\n",
       "    </tr>\n",
       "    <tr>\n",
       "      <th>banana</th>\n",
       "      <td>1.454343</td>\n",
       "      <td>0.704308</td>\n",
       "      <td>1.466351</td>\n",
       "    </tr>\n",
       "    <tr>\n",
       "      <th>durian</th>\n",
       "      <td>0.353622</td>\n",
       "      <td>-1.085523</td>\n",
       "      <td>0.363210</td>\n",
       "    </tr>\n",
       "    <tr>\n",
       "      <th>3</th>\n",
       "      <td>-1.813277</td>\n",
       "      <td>-0.197911</td>\n",
       "      <td>0.432875</td>\n",
       "    </tr>\n",
       "    <tr>\n",
       "      <th>4</th>\n",
       "      <td>-0.540566</td>\n",
       "      <td>0.295631</td>\n",
       "      <td>2.079844</td>\n",
       "    </tr>\n",
       "    <tr>\n",
       "      <th>5</th>\n",
       "      <td>-1.842433</td>\n",
       "      <td>-0.511166</td>\n",
       "      <td>-0.580935</td>\n",
       "    </tr>\n",
       "  </tbody>\n",
       "</table>\n",
       "</div>"
      ],
      "text/plain": [
       "              c1        c2      col3\n",
       "apple   0.115432  0.258670  1.487743\n",
       "banana  1.454343  0.704308  1.466351\n",
       "durian  0.353622 -1.085523  0.363210\n",
       "3      -1.813277 -0.197911  0.432875\n",
       "4      -0.540566  0.295631  2.079844\n",
       "5      -1.842433 -0.511166 -0.580935"
      ]
     },
     "execution_count": 39,
     "metadata": {},
     "output_type": "execute_result"
    }
   ],
   "source": [
    "df1 = pd.DataFrame(np.random.randn(6,3),columns=['col1','col2','col3'])\n",
    "df1.rename(columns={'col1' : 'c1', 'col2' : 'c2'},index = {0 : 'apple', 1 : 'banana', 2 : 'durian'}, inplace=True)\n",
    "df1"
   ]
  },
  {
   "cell_type": "markdown",
   "metadata": {},
   "source": [
    "# Pandas数据处理"
   ]
  },
  {
   "cell_type": "markdown",
   "metadata": {},
   "source": [
    "## 统计分析"
   ]
  },
  {
   "cell_type": "markdown",
   "metadata": {},
   "source": [
    "主要函数有  \n",
    "\n",
    "![](http://images.cnblogs.com/cnblogs_com/haochen273/1389248/o_panda01.PNG)\n",
    "\n",
    "主要的参数有\n",
    "\n",
    "* axis， 哪个轴进行操作\n",
    "* skipna，排除miss value"
   ]
  },
  {
   "cell_type": "code",
   "execution_count": 19,
   "metadata": {},
   "outputs": [
    {
     "data": {
      "text/plain": [
       "Name      TomJamesRickyVinSteveMinsuJackLeeDavidGasperBe...\n",
       "Age                                                     382\n",
       "Rating                                                44.92\n",
       "dtype: object"
      ]
     },
     "execution_count": 19,
     "metadata": {},
     "output_type": "execute_result"
    }
   ],
   "source": [
    "import numpy as np\n",
    "\n",
    "#Create a Dictionary of series\n",
    "d = {'Name':pd.Series(['Tom','James','Ricky','Vin','Steve','Minsu','Jack',\n",
    "   'Lee','David','Gasper','Betina','Andres']),\n",
    "   'Age':pd.Series([25,26,25,23,30,29,23,34,40,30,51,46]),\n",
    "   'Rating':pd.Series([4.23,3.24,3.98,2.56,3.20,4.6,3.8,3.78,2.98,4.80,4.10,3.65])}\n",
    "\n",
    "#Create a DataFrame\n",
    "df = pd.DataFrame(d)\n",
    "df.sum()  # 按照列累加  \n",
    "# df.sum(1)  # 按照每一行累加"
   ]
  },
  {
   "cell_type": "code",
   "execution_count": 20,
   "metadata": {},
   "outputs": [
    {
     "data": {
      "text/plain": [
       "Age       31.833333\n",
       "Rating     3.743333\n",
       "dtype: float64"
      ]
     },
     "execution_count": 20,
     "metadata": {},
     "output_type": "execute_result"
    }
   ],
   "source": [
    "df.mean()"
   ]
  },
  {
   "cell_type": "code",
   "execution_count": 21,
   "metadata": {},
   "outputs": [
    {
     "data": {
      "text/plain": [
       "Age       9.232682\n",
       "Rating    0.661628\n",
       "dtype: float64"
      ]
     },
     "execution_count": 21,
     "metadata": {},
     "output_type": "execute_result"
    }
   ],
   "source": [
    "df.std()"
   ]
  },
  {
   "cell_type": "code",
   "execution_count": 18,
   "metadata": {},
   "outputs": [
    {
     "name": "stdout",
     "output_type": "stream",
     "text": [
      "                   x1          x2          x3\n",
      "Count      100.000000  100.000000  100.000000\n",
      "Min         -4.127033    0.014330    3.000000\n",
      "Whicn_Min   81.000000   72.000000   76.000000\n",
      "Q1           2.040101    0.249580   25.000000\n",
      "Median       3.204555    1.000613   54.500000\n",
      "Q3           4.434788    2.101581   73.000000\n",
      "Mean         3.070225    2.028608   51.490000\n",
      "Max          7.781921   18.791565   98.000000\n",
      "Which_Max   39.000000   53.000000   96.000000\n",
      "Mad          1.511288    1.922669   24.010800\n",
      "Var          4.005609   10.206447  780.090808\n",
      "Std          2.001402    3.194753   27.930106\n",
      "Skew        -0.649478    3.326246   -0.118917\n",
      "Kurt         1.220109   12.636286   -1.211579\n"
     ]
    }
   ],
   "source": [
    "import numpy as np\n",
    "\n",
    "np.random.seed(1234)\n",
    "d1 = pd.Series(2*np.random.normal(size = 100)+3)\n",
    "d2 = np.random.f(2,4,size = 100)\n",
    "d3 = np.random.randint(1,100,size = 100)\n",
    "\n",
    "# 将她写出函数\n",
    "def stats(x):\n",
    "    return pd.Series([x.count(),x.min(),x.idxmin(),x.quantile(.25),x.median(),x.quantile(.75),x.mean(),x.max(),x.idxmax(),x.mad(),x.var(),x.std(),x.skew(),x.kurt()],index = ['Count','Min','Whicn_Min','Q1','Median','Q3','Mean','Max','Which_Max','Mad','Var','Std','Skew','Kurt'])\n",
    "\n",
    "\n",
    "df = pd.DataFrame(np.array([d1,d2,d3]).T,columns=['x1','x2','x3'])\n",
    "print(df.apply(stats))"
   ]
  },
  {
   "cell_type": "markdown",
   "metadata": {},
   "source": [
    "## describe统计  \n",
    "\n",
    "\n",
    "一次性统计多个指标"
   ]
  },
  {
   "cell_type": "code",
   "execution_count": 22,
   "metadata": {},
   "outputs": [
    {
     "name": "stdout",
     "output_type": "stream",
     "text": [
      "描述性统计指标: \n",
      " count    100.000000\n",
      "mean       2.677903\n",
      "std        1.835965\n",
      "min       -1.452235\n",
      "25%        1.568490\n",
      "50%        2.532885\n",
      "75%        3.829638\n",
      "max        7.195602\n",
      "dtype: float64\n"
     ]
    }
   ],
   "source": [
    "d1 = pd.Series(2*np.random.normal(size = 100)+3)\n",
    "\n",
    "print('描述性统计指标: \\n', d1.describe()) #一次性输出多个描述性统计指标"
   ]
  },
  {
   "cell_type": "markdown",
   "metadata": {},
   "source": [
    "## 相关性"
   ]
  },
  {
   "cell_type": "markdown",
   "metadata": {},
   "source": [
    "```python\n",
    "# x1,x2,x3相互的相关性\n",
    "print(df.corr())\n",
    "# x1和x1,x2,x3之间的相关性\n",
    "print(df.corrwith(df['x1']))\n",
    "\n",
    "print(df['a'].corr(df['b']))\n",
    "```\n",
    "\n",
    "```text\n",
    "     x1       x2      x3\n",
    "x1 1.00000 0.178950 0.006590\n",
    "x2 0.17895 1.000000 -0.033874\n",
    "x3 0.00659 -0.033874 1.000000\n",
    "\n",
    "x1 1.000000\n",
    "x2 0.136085\n",
    "x3 0.037185\n",
    "dtype: float64\n",
    "```"
   ]
  },
  {
   "cell_type": "markdown",
   "metadata": {},
   "source": [
    "# Pandas高级用法"
   ]
  },
  {
   "cell_type": "markdown",
   "metadata": {},
   "source": [
    "## 窗口函数  \n",
    "\n",
    "为了处理数字数据，Pandas提供了几个变体，如滚动，展开和指数移动窗口统计的权重。 其中包括总和，均值，中位数，方差，协方差，相关性等。"
   ]
  },
  {
   "cell_type": "markdown",
   "metadata": {},
   "source": [
    "### rolling函数"
   ]
  },
  {
   "cell_type": "code",
   "execution_count": 49,
   "metadata": {},
   "outputs": [
    {
     "data": {
      "text/html": [
       "<div>\n",
       "<style scoped>\n",
       "    .dataframe tbody tr th:only-of-type {\n",
       "        vertical-align: middle;\n",
       "    }\n",
       "\n",
       "    .dataframe tbody tr th {\n",
       "        vertical-align: top;\n",
       "    }\n",
       "\n",
       "    .dataframe thead th {\n",
       "        text-align: right;\n",
       "    }\n",
       "</style>\n",
       "<table border=\"1\" class=\"dataframe\">\n",
       "  <thead>\n",
       "    <tr style=\"text-align: right;\">\n",
       "      <th></th>\n",
       "      <th>A</th>\n",
       "      <th>B</th>\n",
       "      <th>C</th>\n",
       "      <th>D</th>\n",
       "    </tr>\n",
       "  </thead>\n",
       "  <tbody>\n",
       "    <tr>\n",
       "      <th>2020-01-01</th>\n",
       "      <td>NaN</td>\n",
       "      <td>NaN</td>\n",
       "      <td>NaN</td>\n",
       "      <td>NaN</td>\n",
       "    </tr>\n",
       "    <tr>\n",
       "      <th>2020-01-02</th>\n",
       "      <td>NaN</td>\n",
       "      <td>NaN</td>\n",
       "      <td>NaN</td>\n",
       "      <td>NaN</td>\n",
       "    </tr>\n",
       "    <tr>\n",
       "      <th>2020-01-03</th>\n",
       "      <td>-0.298267</td>\n",
       "      <td>-0.995312</td>\n",
       "      <td>0.118376</td>\n",
       "      <td>0.160784</td>\n",
       "    </tr>\n",
       "    <tr>\n",
       "      <th>2020-01-04</th>\n",
       "      <td>-0.274604</td>\n",
       "      <td>-0.656377</td>\n",
       "      <td>0.646134</td>\n",
       "      <td>0.290050</td>\n",
       "    </tr>\n",
       "    <tr>\n",
       "      <th>2020-01-05</th>\n",
       "      <td>-0.024167</td>\n",
       "      <td>-0.676729</td>\n",
       "      <td>0.706146</td>\n",
       "      <td>-0.140127</td>\n",
       "    </tr>\n",
       "    <tr>\n",
       "      <th>2020-01-06</th>\n",
       "      <td>0.052352</td>\n",
       "      <td>0.012487</td>\n",
       "      <td>-0.166444</td>\n",
       "      <td>-0.137608</td>\n",
       "    </tr>\n",
       "    <tr>\n",
       "      <th>2020-01-07</th>\n",
       "      <td>0.023046</td>\n",
       "      <td>-0.871086</td>\n",
       "      <td>-0.276694</td>\n",
       "      <td>0.537412</td>\n",
       "    </tr>\n",
       "    <tr>\n",
       "      <th>2020-01-08</th>\n",
       "      <td>-0.388944</td>\n",
       "      <td>-0.581562</td>\n",
       "      <td>-0.701218</td>\n",
       "      <td>1.148056</td>\n",
       "    </tr>\n",
       "    <tr>\n",
       "      <th>2020-01-09</th>\n",
       "      <td>-0.274209</td>\n",
       "      <td>-0.236960</td>\n",
       "      <td>-0.524051</td>\n",
       "      <td>0.856202</td>\n",
       "    </tr>\n",
       "    <tr>\n",
       "      <th>2020-01-10</th>\n",
       "      <td>-0.186600</td>\n",
       "      <td>0.870948</td>\n",
       "      <td>-1.280571</td>\n",
       "      <td>0.218275</td>\n",
       "    </tr>\n",
       "  </tbody>\n",
       "</table>\n",
       "</div>"
      ],
      "text/plain": [
       "                   A         B         C         D\n",
       "2020-01-01       NaN       NaN       NaN       NaN\n",
       "2020-01-02       NaN       NaN       NaN       NaN\n",
       "2020-01-03 -0.298267 -0.995312  0.118376  0.160784\n",
       "2020-01-04 -0.274604 -0.656377  0.646134  0.290050\n",
       "2020-01-05 -0.024167 -0.676729  0.706146 -0.140127\n",
       "2020-01-06  0.052352  0.012487 -0.166444 -0.137608\n",
       "2020-01-07  0.023046 -0.871086 -0.276694  0.537412\n",
       "2020-01-08 -0.388944 -0.581562 -0.701218  1.148056\n",
       "2020-01-09 -0.274209 -0.236960 -0.524051  0.856202\n",
       "2020-01-10 -0.186600  0.870948 -1.280571  0.218275"
      ]
     },
     "execution_count": 49,
     "metadata": {},
     "output_type": "execute_result"
    }
   ],
   "source": [
    "df = pd.DataFrame(np.random.randn(10, 4),\n",
    "index = pd.date_range('1/1/2020', periods=10),\n",
    "columns = ['A', 'B', 'C', 'D'])\n",
    "df.rolling(window=3).mean()"
   ]
  },
  {
   "cell_type": "markdown",
   "metadata": {},
   "source": [
    "## Pandas聚合  \n",
    "\n",
    "依次执行某个函数"
   ]
  },
  {
   "cell_type": "code",
   "execution_count": 52,
   "metadata": {},
   "outputs": [
    {
     "data": {
      "text/plain": [
       "Rolling [window=3,min_periods=1,center=False,axis=0]"
      ]
     },
     "execution_count": 52,
     "metadata": {},
     "output_type": "execute_result"
    }
   ],
   "source": [
    "r = df.rolling(window=3,min_periods=1)\n",
    "r"
   ]
  },
  {
   "cell_type": "markdown",
   "metadata": {},
   "source": [
    "### 在整个数据框上聚合"
   ]
  },
  {
   "cell_type": "code",
   "execution_count": 53,
   "metadata": {},
   "outputs": [
    {
     "data": {
      "text/html": [
       "<div>\n",
       "<style scoped>\n",
       "    .dataframe tbody tr th:only-of-type {\n",
       "        vertical-align: middle;\n",
       "    }\n",
       "\n",
       "    .dataframe tbody tr th {\n",
       "        vertical-align: top;\n",
       "    }\n",
       "\n",
       "    .dataframe thead th {\n",
       "        text-align: right;\n",
       "    }\n",
       "</style>\n",
       "<table border=\"1\" class=\"dataframe\">\n",
       "  <thead>\n",
       "    <tr style=\"text-align: right;\">\n",
       "      <th></th>\n",
       "      <th>A</th>\n",
       "      <th>B</th>\n",
       "      <th>C</th>\n",
       "      <th>D</th>\n",
       "    </tr>\n",
       "  </thead>\n",
       "  <tbody>\n",
       "    <tr>\n",
       "      <th>2020-01-01</th>\n",
       "      <td>-0.228434</td>\n",
       "      <td>0.364484</td>\n",
       "      <td>-1.514847</td>\n",
       "      <td>-0.075261</td>\n",
       "    </tr>\n",
       "    <tr>\n",
       "      <th>2020-01-02</th>\n",
       "      <td>-0.525492</td>\n",
       "      <td>-0.362930</td>\n",
       "      <td>-1.760722</td>\n",
       "      <td>-0.203210</td>\n",
       "    </tr>\n",
       "    <tr>\n",
       "      <th>2020-01-03</th>\n",
       "      <td>-0.894802</td>\n",
       "      <td>-2.985935</td>\n",
       "      <td>0.355129</td>\n",
       "      <td>0.482351</td>\n",
       "    </tr>\n",
       "    <tr>\n",
       "      <th>2020-01-04</th>\n",
       "      <td>-0.823813</td>\n",
       "      <td>-1.969131</td>\n",
       "      <td>1.938402</td>\n",
       "      <td>0.870149</td>\n",
       "    </tr>\n",
       "    <tr>\n",
       "      <th>2020-01-05</th>\n",
       "      <td>-0.072501</td>\n",
       "      <td>-2.030188</td>\n",
       "      <td>2.118437</td>\n",
       "      <td>-0.420382</td>\n",
       "    </tr>\n",
       "    <tr>\n",
       "      <th>2020-01-06</th>\n",
       "      <td>0.157056</td>\n",
       "      <td>0.037461</td>\n",
       "      <td>-0.499332</td>\n",
       "      <td>-0.412825</td>\n",
       "    </tr>\n",
       "    <tr>\n",
       "      <th>2020-01-07</th>\n",
       "      <td>0.069139</td>\n",
       "      <td>-2.613259</td>\n",
       "      <td>-0.830082</td>\n",
       "      <td>1.612237</td>\n",
       "    </tr>\n",
       "    <tr>\n",
       "      <th>2020-01-08</th>\n",
       "      <td>-1.166831</td>\n",
       "      <td>-1.744687</td>\n",
       "      <td>-2.103653</td>\n",
       "      <td>3.444168</td>\n",
       "    </tr>\n",
       "    <tr>\n",
       "      <th>2020-01-09</th>\n",
       "      <td>-0.822626</td>\n",
       "      <td>-0.710879</td>\n",
       "      <td>-1.572154</td>\n",
       "      <td>2.568607</td>\n",
       "    </tr>\n",
       "    <tr>\n",
       "      <th>2020-01-10</th>\n",
       "      <td>-0.559799</td>\n",
       "      <td>2.612843</td>\n",
       "      <td>-3.841713</td>\n",
       "      <td>0.654824</td>\n",
       "    </tr>\n",
       "  </tbody>\n",
       "</table>\n",
       "</div>"
      ],
      "text/plain": [
       "                   A         B         C         D\n",
       "2020-01-01 -0.228434  0.364484 -1.514847 -0.075261\n",
       "2020-01-02 -0.525492 -0.362930 -1.760722 -0.203210\n",
       "2020-01-03 -0.894802 -2.985935  0.355129  0.482351\n",
       "2020-01-04 -0.823813 -1.969131  1.938402  0.870149\n",
       "2020-01-05 -0.072501 -2.030188  2.118437 -0.420382\n",
       "2020-01-06  0.157056  0.037461 -0.499332 -0.412825\n",
       "2020-01-07  0.069139 -2.613259 -0.830082  1.612237\n",
       "2020-01-08 -1.166831 -1.744687 -2.103653  3.444168\n",
       "2020-01-09 -0.822626 -0.710879 -1.572154  2.568607\n",
       "2020-01-10 -0.559799  2.612843 -3.841713  0.654824"
      ]
     },
     "execution_count": 53,
     "metadata": {},
     "output_type": "execute_result"
    }
   ],
   "source": [
    "r.aggregate(np.sum)"
   ]
  },
  {
   "cell_type": "markdown",
   "metadata": {},
   "source": [
    "### 数据框的单个列上应用聚合"
   ]
  },
  {
   "cell_type": "code",
   "execution_count": 54,
   "metadata": {},
   "outputs": [
    {
     "data": {
      "text/plain": [
       "2020-01-01   -0.228434\n",
       "2020-01-02   -0.525492\n",
       "2020-01-03   -0.894802\n",
       "2020-01-04   -0.823813\n",
       "2020-01-05   -0.072501\n",
       "2020-01-06    0.157056\n",
       "2020-01-07    0.069139\n",
       "2020-01-08   -1.166831\n",
       "2020-01-09   -0.822626\n",
       "2020-01-10   -0.559799\n",
       "Freq: D, Name: A, dtype: float64"
      ]
     },
     "execution_count": 54,
     "metadata": {},
     "output_type": "execute_result"
    }
   ],
   "source": [
    "r['A'].aggregate(np.sum)"
   ]
  },
  {
   "cell_type": "markdown",
   "metadata": {},
   "source": [
    "### DataFrame的多列上应用聚合"
   ]
  },
  {
   "cell_type": "code",
   "execution_count": 55,
   "metadata": {},
   "outputs": [
    {
     "data": {
      "text/html": [
       "<div>\n",
       "<style scoped>\n",
       "    .dataframe tbody tr th:only-of-type {\n",
       "        vertical-align: middle;\n",
       "    }\n",
       "\n",
       "    .dataframe tbody tr th {\n",
       "        vertical-align: top;\n",
       "    }\n",
       "\n",
       "    .dataframe thead th {\n",
       "        text-align: right;\n",
       "    }\n",
       "</style>\n",
       "<table border=\"1\" class=\"dataframe\">\n",
       "  <thead>\n",
       "    <tr style=\"text-align: right;\">\n",
       "      <th></th>\n",
       "      <th>A</th>\n",
       "      <th>B</th>\n",
       "    </tr>\n",
       "  </thead>\n",
       "  <tbody>\n",
       "    <tr>\n",
       "      <th>2020-01-01</th>\n",
       "      <td>-0.228434</td>\n",
       "      <td>0.364484</td>\n",
       "    </tr>\n",
       "    <tr>\n",
       "      <th>2020-01-02</th>\n",
       "      <td>-0.525492</td>\n",
       "      <td>-0.362930</td>\n",
       "    </tr>\n",
       "    <tr>\n",
       "      <th>2020-01-03</th>\n",
       "      <td>-0.894802</td>\n",
       "      <td>-2.985935</td>\n",
       "    </tr>\n",
       "    <tr>\n",
       "      <th>2020-01-04</th>\n",
       "      <td>-0.823813</td>\n",
       "      <td>-1.969131</td>\n",
       "    </tr>\n",
       "    <tr>\n",
       "      <th>2020-01-05</th>\n",
       "      <td>-0.072501</td>\n",
       "      <td>-2.030188</td>\n",
       "    </tr>\n",
       "    <tr>\n",
       "      <th>2020-01-06</th>\n",
       "      <td>0.157056</td>\n",
       "      <td>0.037461</td>\n",
       "    </tr>\n",
       "    <tr>\n",
       "      <th>2020-01-07</th>\n",
       "      <td>0.069139</td>\n",
       "      <td>-2.613259</td>\n",
       "    </tr>\n",
       "    <tr>\n",
       "      <th>2020-01-08</th>\n",
       "      <td>-1.166831</td>\n",
       "      <td>-1.744687</td>\n",
       "    </tr>\n",
       "    <tr>\n",
       "      <th>2020-01-09</th>\n",
       "      <td>-0.822626</td>\n",
       "      <td>-0.710879</td>\n",
       "    </tr>\n",
       "    <tr>\n",
       "      <th>2020-01-10</th>\n",
       "      <td>-0.559799</td>\n",
       "      <td>2.612843</td>\n",
       "    </tr>\n",
       "  </tbody>\n",
       "</table>\n",
       "</div>"
      ],
      "text/plain": [
       "                   A         B\n",
       "2020-01-01 -0.228434  0.364484\n",
       "2020-01-02 -0.525492 -0.362930\n",
       "2020-01-03 -0.894802 -2.985935\n",
       "2020-01-04 -0.823813 -1.969131\n",
       "2020-01-05 -0.072501 -2.030188\n",
       "2020-01-06  0.157056  0.037461\n",
       "2020-01-07  0.069139 -2.613259\n",
       "2020-01-08 -1.166831 -1.744687\n",
       "2020-01-09 -0.822626 -0.710879\n",
       "2020-01-10 -0.559799  2.612843"
      ]
     },
     "execution_count": 55,
     "metadata": {},
     "output_type": "execute_result"
    }
   ],
   "source": [
    "r[['A','B']].aggregate(np.sum)"
   ]
  },
  {
   "cell_type": "markdown",
   "metadata": {},
   "source": [
    "### DataFrame的单个列上应用多个函数"
   ]
  },
  {
   "cell_type": "code",
   "execution_count": 56,
   "metadata": {},
   "outputs": [
    {
     "data": {
      "text/html": [
       "<div>\n",
       "<style scoped>\n",
       "    .dataframe tbody tr th:only-of-type {\n",
       "        vertical-align: middle;\n",
       "    }\n",
       "\n",
       "    .dataframe tbody tr th {\n",
       "        vertical-align: top;\n",
       "    }\n",
       "\n",
       "    .dataframe thead th {\n",
       "        text-align: right;\n",
       "    }\n",
       "</style>\n",
       "<table border=\"1\" class=\"dataframe\">\n",
       "  <thead>\n",
       "    <tr style=\"text-align: right;\">\n",
       "      <th></th>\n",
       "      <th>sum</th>\n",
       "      <th>mean</th>\n",
       "    </tr>\n",
       "  </thead>\n",
       "  <tbody>\n",
       "    <tr>\n",
       "      <th>2020-01-01</th>\n",
       "      <td>-0.228434</td>\n",
       "      <td>-0.228434</td>\n",
       "    </tr>\n",
       "    <tr>\n",
       "      <th>2020-01-02</th>\n",
       "      <td>-0.525492</td>\n",
       "      <td>-0.262746</td>\n",
       "    </tr>\n",
       "    <tr>\n",
       "      <th>2020-01-03</th>\n",
       "      <td>-0.894802</td>\n",
       "      <td>-0.298267</td>\n",
       "    </tr>\n",
       "    <tr>\n",
       "      <th>2020-01-04</th>\n",
       "      <td>-0.823813</td>\n",
       "      <td>-0.274604</td>\n",
       "    </tr>\n",
       "    <tr>\n",
       "      <th>2020-01-05</th>\n",
       "      <td>-0.072501</td>\n",
       "      <td>-0.024167</td>\n",
       "    </tr>\n",
       "    <tr>\n",
       "      <th>2020-01-06</th>\n",
       "      <td>0.157056</td>\n",
       "      <td>0.052352</td>\n",
       "    </tr>\n",
       "    <tr>\n",
       "      <th>2020-01-07</th>\n",
       "      <td>0.069139</td>\n",
       "      <td>0.023046</td>\n",
       "    </tr>\n",
       "    <tr>\n",
       "      <th>2020-01-08</th>\n",
       "      <td>-1.166831</td>\n",
       "      <td>-0.388944</td>\n",
       "    </tr>\n",
       "    <tr>\n",
       "      <th>2020-01-09</th>\n",
       "      <td>-0.822626</td>\n",
       "      <td>-0.274209</td>\n",
       "    </tr>\n",
       "    <tr>\n",
       "      <th>2020-01-10</th>\n",
       "      <td>-0.559799</td>\n",
       "      <td>-0.186600</td>\n",
       "    </tr>\n",
       "  </tbody>\n",
       "</table>\n",
       "</div>"
      ],
      "text/plain": [
       "                 sum      mean\n",
       "2020-01-01 -0.228434 -0.228434\n",
       "2020-01-02 -0.525492 -0.262746\n",
       "2020-01-03 -0.894802 -0.298267\n",
       "2020-01-04 -0.823813 -0.274604\n",
       "2020-01-05 -0.072501 -0.024167\n",
       "2020-01-06  0.157056  0.052352\n",
       "2020-01-07  0.069139  0.023046\n",
       "2020-01-08 -1.166831 -0.388944\n",
       "2020-01-09 -0.822626 -0.274209\n",
       "2020-01-10 -0.559799 -0.186600"
      ]
     },
     "execution_count": 56,
     "metadata": {},
     "output_type": "execute_result"
    }
   ],
   "source": [
    "r['A'].aggregate([np.sum,np.mean])"
   ]
  },
  {
   "cell_type": "markdown",
   "metadata": {},
   "source": [
    "### DataFrame的多列上应用多个函数"
   ]
  },
  {
   "cell_type": "code",
   "execution_count": 57,
   "metadata": {},
   "outputs": [
    {
     "data": {
      "text/html": [
       "<div>\n",
       "<style scoped>\n",
       "    .dataframe tbody tr th:only-of-type {\n",
       "        vertical-align: middle;\n",
       "    }\n",
       "\n",
       "    .dataframe tbody tr th {\n",
       "        vertical-align: top;\n",
       "    }\n",
       "\n",
       "    .dataframe thead tr th {\n",
       "        text-align: left;\n",
       "    }\n",
       "</style>\n",
       "<table border=\"1\" class=\"dataframe\">\n",
       "  <thead>\n",
       "    <tr>\n",
       "      <th></th>\n",
       "      <th colspan=\"2\" halign=\"left\">A</th>\n",
       "      <th colspan=\"2\" halign=\"left\">B</th>\n",
       "    </tr>\n",
       "    <tr>\n",
       "      <th></th>\n",
       "      <th>sum</th>\n",
       "      <th>mean</th>\n",
       "      <th>sum</th>\n",
       "      <th>mean</th>\n",
       "    </tr>\n",
       "  </thead>\n",
       "  <tbody>\n",
       "    <tr>\n",
       "      <th>2020-01-01</th>\n",
       "      <td>-0.228434</td>\n",
       "      <td>-0.228434</td>\n",
       "      <td>0.364484</td>\n",
       "      <td>0.364484</td>\n",
       "    </tr>\n",
       "    <tr>\n",
       "      <th>2020-01-02</th>\n",
       "      <td>-0.525492</td>\n",
       "      <td>-0.262746</td>\n",
       "      <td>-0.362930</td>\n",
       "      <td>-0.181465</td>\n",
       "    </tr>\n",
       "    <tr>\n",
       "      <th>2020-01-03</th>\n",
       "      <td>-0.894802</td>\n",
       "      <td>-0.298267</td>\n",
       "      <td>-2.985935</td>\n",
       "      <td>-0.995312</td>\n",
       "    </tr>\n",
       "    <tr>\n",
       "      <th>2020-01-04</th>\n",
       "      <td>-0.823813</td>\n",
       "      <td>-0.274604</td>\n",
       "      <td>-1.969131</td>\n",
       "      <td>-0.656377</td>\n",
       "    </tr>\n",
       "    <tr>\n",
       "      <th>2020-01-05</th>\n",
       "      <td>-0.072501</td>\n",
       "      <td>-0.024167</td>\n",
       "      <td>-2.030188</td>\n",
       "      <td>-0.676729</td>\n",
       "    </tr>\n",
       "    <tr>\n",
       "      <th>2020-01-06</th>\n",
       "      <td>0.157056</td>\n",
       "      <td>0.052352</td>\n",
       "      <td>0.037461</td>\n",
       "      <td>0.012487</td>\n",
       "    </tr>\n",
       "    <tr>\n",
       "      <th>2020-01-07</th>\n",
       "      <td>0.069139</td>\n",
       "      <td>0.023046</td>\n",
       "      <td>-2.613259</td>\n",
       "      <td>-0.871086</td>\n",
       "    </tr>\n",
       "    <tr>\n",
       "      <th>2020-01-08</th>\n",
       "      <td>-1.166831</td>\n",
       "      <td>-0.388944</td>\n",
       "      <td>-1.744687</td>\n",
       "      <td>-0.581562</td>\n",
       "    </tr>\n",
       "    <tr>\n",
       "      <th>2020-01-09</th>\n",
       "      <td>-0.822626</td>\n",
       "      <td>-0.274209</td>\n",
       "      <td>-0.710879</td>\n",
       "      <td>-0.236960</td>\n",
       "    </tr>\n",
       "    <tr>\n",
       "      <th>2020-01-10</th>\n",
       "      <td>-0.559799</td>\n",
       "      <td>-0.186600</td>\n",
       "      <td>2.612843</td>\n",
       "      <td>0.870948</td>\n",
       "    </tr>\n",
       "  </tbody>\n",
       "</table>\n",
       "</div>"
      ],
      "text/plain": [
       "                   A                   B          \n",
       "                 sum      mean       sum      mean\n",
       "2020-01-01 -0.228434 -0.228434  0.364484  0.364484\n",
       "2020-01-02 -0.525492 -0.262746 -0.362930 -0.181465\n",
       "2020-01-03 -0.894802 -0.298267 -2.985935 -0.995312\n",
       "2020-01-04 -0.823813 -0.274604 -1.969131 -0.656377\n",
       "2020-01-05 -0.072501 -0.024167 -2.030188 -0.676729\n",
       "2020-01-06  0.157056  0.052352  0.037461  0.012487\n",
       "2020-01-07  0.069139  0.023046 -2.613259 -0.871086\n",
       "2020-01-08 -1.166831 -0.388944 -1.744687 -0.581562\n",
       "2020-01-09 -0.822626 -0.274209 -0.710879 -0.236960\n",
       "2020-01-10 -0.559799 -0.186600  2.612843  0.870948"
      ]
     },
     "execution_count": 57,
     "metadata": {},
     "output_type": "execute_result"
    }
   ],
   "source": [
    "r[['A','B']].aggregate([np.sum,np.mean])"
   ]
  },
  {
   "cell_type": "markdown",
   "metadata": {},
   "source": [
    "## Pandas的缺省值"
   ]
  },
  {
   "cell_type": "markdown",
   "metadata": {},
   "source": [
    "### 检查是否有nan"
   ]
  },
  {
   "cell_type": "code",
   "execution_count": 58,
   "metadata": {},
   "outputs": [
    {
     "data": {
      "text/plain": [
       "a    False\n",
       "b     True\n",
       "c    False\n",
       "d     True\n",
       "e    False\n",
       "f    False\n",
       "g     True\n",
       "h    False\n",
       "Name: one, dtype: bool"
      ]
     },
     "execution_count": 58,
     "metadata": {},
     "output_type": "execute_result"
    }
   ],
   "source": [
    "df = pd.DataFrame(np.random.randn(5, 3), index=['a', 'c', 'e', 'f','h'],columns=['one', 'two', 'three'])\n",
    "\n",
    "df = df.reindex(['a', 'b', 'c', 'd', 'e', 'f', 'g', 'h'])\n",
    "\n",
    "df['one'].isnull()"
   ]
  },
  {
   "cell_type": "markdown",
   "metadata": {},
   "source": [
    "### 清理、填充缺少数据"
   ]
  },
  {
   "cell_type": "code",
   "execution_count": 59,
   "metadata": {},
   "outputs": [
    {
     "data": {
      "text/html": [
       "<div>\n",
       "<style scoped>\n",
       "    .dataframe tbody tr th:only-of-type {\n",
       "        vertical-align: middle;\n",
       "    }\n",
       "\n",
       "    .dataframe tbody tr th {\n",
       "        vertical-align: top;\n",
       "    }\n",
       "\n",
       "    .dataframe thead th {\n",
       "        text-align: right;\n",
       "    }\n",
       "</style>\n",
       "<table border=\"1\" class=\"dataframe\">\n",
       "  <thead>\n",
       "    <tr style=\"text-align: right;\">\n",
       "      <th></th>\n",
       "      <th>one</th>\n",
       "      <th>two</th>\n",
       "      <th>three</th>\n",
       "    </tr>\n",
       "  </thead>\n",
       "  <tbody>\n",
       "    <tr>\n",
       "      <th>a</th>\n",
       "      <td>-0.955684</td>\n",
       "      <td>-0.133674</td>\n",
       "      <td>-1.077403</td>\n",
       "    </tr>\n",
       "    <tr>\n",
       "      <th>b</th>\n",
       "      <td>0.000000</td>\n",
       "      <td>0.000000</td>\n",
       "      <td>0.000000</td>\n",
       "    </tr>\n",
       "    <tr>\n",
       "      <th>c</th>\n",
       "      <td>1.249903</td>\n",
       "      <td>0.571149</td>\n",
       "      <td>0.297048</td>\n",
       "    </tr>\n",
       "    <tr>\n",
       "      <th>d</th>\n",
       "      <td>0.000000</td>\n",
       "      <td>0.000000</td>\n",
       "      <td>0.000000</td>\n",
       "    </tr>\n",
       "    <tr>\n",
       "      <th>e</th>\n",
       "      <td>0.871865</td>\n",
       "      <td>-0.163711</td>\n",
       "      <td>0.689523</td>\n",
       "    </tr>\n",
       "    <tr>\n",
       "      <th>f</th>\n",
       "      <td>1.984590</td>\n",
       "      <td>-0.118282</td>\n",
       "      <td>0.955130</td>\n",
       "    </tr>\n",
       "    <tr>\n",
       "      <th>g</th>\n",
       "      <td>0.000000</td>\n",
       "      <td>0.000000</td>\n",
       "      <td>0.000000</td>\n",
       "    </tr>\n",
       "    <tr>\n",
       "      <th>h</th>\n",
       "      <td>-1.180553</td>\n",
       "      <td>1.470474</td>\n",
       "      <td>-0.021558</td>\n",
       "    </tr>\n",
       "  </tbody>\n",
       "</table>\n",
       "</div>"
      ],
      "text/plain": [
       "        one       two     three\n",
       "a -0.955684 -0.133674 -1.077403\n",
       "b  0.000000  0.000000  0.000000\n",
       "c  1.249903  0.571149  0.297048\n",
       "d  0.000000  0.000000  0.000000\n",
       "e  0.871865 -0.163711  0.689523\n",
       "f  1.984590 -0.118282  0.955130\n",
       "g  0.000000  0.000000  0.000000\n",
       "h -1.180553  1.470474 -0.021558"
      ]
     },
     "execution_count": 59,
     "metadata": {},
     "output_type": "execute_result"
    }
   ],
   "source": [
    "df.fillna(0)"
   ]
  },
  {
   "cell_type": "code",
   "execution_count": 60,
   "metadata": {},
   "outputs": [
    {
     "data": {
      "text/html": [
       "<div>\n",
       "<style scoped>\n",
       "    .dataframe tbody tr th:only-of-type {\n",
       "        vertical-align: middle;\n",
       "    }\n",
       "\n",
       "    .dataframe tbody tr th {\n",
       "        vertical-align: top;\n",
       "    }\n",
       "\n",
       "    .dataframe thead th {\n",
       "        text-align: right;\n",
       "    }\n",
       "</style>\n",
       "<table border=\"1\" class=\"dataframe\">\n",
       "  <thead>\n",
       "    <tr style=\"text-align: right;\">\n",
       "      <th></th>\n",
       "      <th>one</th>\n",
       "      <th>two</th>\n",
       "      <th>three</th>\n",
       "    </tr>\n",
       "  </thead>\n",
       "  <tbody>\n",
       "    <tr>\n",
       "      <th>a</th>\n",
       "      <td>-0.955684</td>\n",
       "      <td>-0.133674</td>\n",
       "      <td>-1.077403</td>\n",
       "    </tr>\n",
       "    <tr>\n",
       "      <th>b</th>\n",
       "      <td>-0.955684</td>\n",
       "      <td>-0.133674</td>\n",
       "      <td>-1.077403</td>\n",
       "    </tr>\n",
       "    <tr>\n",
       "      <th>c</th>\n",
       "      <td>1.249903</td>\n",
       "      <td>0.571149</td>\n",
       "      <td>0.297048</td>\n",
       "    </tr>\n",
       "    <tr>\n",
       "      <th>d</th>\n",
       "      <td>1.249903</td>\n",
       "      <td>0.571149</td>\n",
       "      <td>0.297048</td>\n",
       "    </tr>\n",
       "    <tr>\n",
       "      <th>e</th>\n",
       "      <td>0.871865</td>\n",
       "      <td>-0.163711</td>\n",
       "      <td>0.689523</td>\n",
       "    </tr>\n",
       "    <tr>\n",
       "      <th>f</th>\n",
       "      <td>1.984590</td>\n",
       "      <td>-0.118282</td>\n",
       "      <td>0.955130</td>\n",
       "    </tr>\n",
       "    <tr>\n",
       "      <th>g</th>\n",
       "      <td>1.984590</td>\n",
       "      <td>-0.118282</td>\n",
       "      <td>0.955130</td>\n",
       "    </tr>\n",
       "    <tr>\n",
       "      <th>h</th>\n",
       "      <td>-1.180553</td>\n",
       "      <td>1.470474</td>\n",
       "      <td>-0.021558</td>\n",
       "    </tr>\n",
       "  </tbody>\n",
       "</table>\n",
       "</div>"
      ],
      "text/plain": [
       "        one       two     three\n",
       "a -0.955684 -0.133674 -1.077403\n",
       "b -0.955684 -0.133674 -1.077403\n",
       "c  1.249903  0.571149  0.297048\n",
       "d  1.249903  0.571149  0.297048\n",
       "e  0.871865 -0.163711  0.689523\n",
       "f  1.984590 -0.118282  0.955130\n",
       "g  1.984590 -0.118282  0.955130\n",
       "h -1.180553  1.470474 -0.021558"
      ]
     },
     "execution_count": 60,
     "metadata": {},
     "output_type": "execute_result"
    }
   ],
   "source": [
    "df.fillna(method='pad')  # 填充方法向前"
   ]
  },
  {
   "cell_type": "code",
   "execution_count": 61,
   "metadata": {},
   "outputs": [
    {
     "data": {
      "text/html": [
       "<div>\n",
       "<style scoped>\n",
       "    .dataframe tbody tr th:only-of-type {\n",
       "        vertical-align: middle;\n",
       "    }\n",
       "\n",
       "    .dataframe tbody tr th {\n",
       "        vertical-align: top;\n",
       "    }\n",
       "\n",
       "    .dataframe thead th {\n",
       "        text-align: right;\n",
       "    }\n",
       "</style>\n",
       "<table border=\"1\" class=\"dataframe\">\n",
       "  <thead>\n",
       "    <tr style=\"text-align: right;\">\n",
       "      <th></th>\n",
       "      <th>one</th>\n",
       "      <th>two</th>\n",
       "      <th>three</th>\n",
       "    </tr>\n",
       "  </thead>\n",
       "  <tbody>\n",
       "    <tr>\n",
       "      <th>a</th>\n",
       "      <td>-0.955684</td>\n",
       "      <td>-0.133674</td>\n",
       "      <td>-1.077403</td>\n",
       "    </tr>\n",
       "    <tr>\n",
       "      <th>b</th>\n",
       "      <td>1.249903</td>\n",
       "      <td>0.571149</td>\n",
       "      <td>0.297048</td>\n",
       "    </tr>\n",
       "    <tr>\n",
       "      <th>c</th>\n",
       "      <td>1.249903</td>\n",
       "      <td>0.571149</td>\n",
       "      <td>0.297048</td>\n",
       "    </tr>\n",
       "    <tr>\n",
       "      <th>d</th>\n",
       "      <td>0.871865</td>\n",
       "      <td>-0.163711</td>\n",
       "      <td>0.689523</td>\n",
       "    </tr>\n",
       "    <tr>\n",
       "      <th>e</th>\n",
       "      <td>0.871865</td>\n",
       "      <td>-0.163711</td>\n",
       "      <td>0.689523</td>\n",
       "    </tr>\n",
       "    <tr>\n",
       "      <th>f</th>\n",
       "      <td>1.984590</td>\n",
       "      <td>-0.118282</td>\n",
       "      <td>0.955130</td>\n",
       "    </tr>\n",
       "    <tr>\n",
       "      <th>g</th>\n",
       "      <td>-1.180553</td>\n",
       "      <td>1.470474</td>\n",
       "      <td>-0.021558</td>\n",
       "    </tr>\n",
       "    <tr>\n",
       "      <th>h</th>\n",
       "      <td>-1.180553</td>\n",
       "      <td>1.470474</td>\n",
       "      <td>-0.021558</td>\n",
       "    </tr>\n",
       "  </tbody>\n",
       "</table>\n",
       "</div>"
      ],
      "text/plain": [
       "        one       two     three\n",
       "a -0.955684 -0.133674 -1.077403\n",
       "b  1.249903  0.571149  0.297048\n",
       "c  1.249903  0.571149  0.297048\n",
       "d  0.871865 -0.163711  0.689523\n",
       "e  0.871865 -0.163711  0.689523\n",
       "f  1.984590 -0.118282  0.955130\n",
       "g -1.180553  1.470474 -0.021558\n",
       "h -1.180553  1.470474 -0.021558"
      ]
     },
     "execution_count": 61,
     "metadata": {},
     "output_type": "execute_result"
    }
   ],
   "source": [
    "df.fillna(method='backfill') # 填充方法向后"
   ]
  },
  {
   "cell_type": "code",
   "execution_count": 62,
   "metadata": {},
   "outputs": [
    {
     "data": {
      "text/html": [
       "<div>\n",
       "<style scoped>\n",
       "    .dataframe tbody tr th:only-of-type {\n",
       "        vertical-align: middle;\n",
       "    }\n",
       "\n",
       "    .dataframe tbody tr th {\n",
       "        vertical-align: top;\n",
       "    }\n",
       "\n",
       "    .dataframe thead th {\n",
       "        text-align: right;\n",
       "    }\n",
       "</style>\n",
       "<table border=\"1\" class=\"dataframe\">\n",
       "  <thead>\n",
       "    <tr style=\"text-align: right;\">\n",
       "      <th></th>\n",
       "      <th>one</th>\n",
       "      <th>two</th>\n",
       "      <th>three</th>\n",
       "    </tr>\n",
       "  </thead>\n",
       "  <tbody>\n",
       "    <tr>\n",
       "      <th>a</th>\n",
       "      <td>-0.955684</td>\n",
       "      <td>-0.133674</td>\n",
       "      <td>-1.077403</td>\n",
       "    </tr>\n",
       "    <tr>\n",
       "      <th>c</th>\n",
       "      <td>1.249903</td>\n",
       "      <td>0.571149</td>\n",
       "      <td>0.297048</td>\n",
       "    </tr>\n",
       "    <tr>\n",
       "      <th>e</th>\n",
       "      <td>0.871865</td>\n",
       "      <td>-0.163711</td>\n",
       "      <td>0.689523</td>\n",
       "    </tr>\n",
       "    <tr>\n",
       "      <th>f</th>\n",
       "      <td>1.984590</td>\n",
       "      <td>-0.118282</td>\n",
       "      <td>0.955130</td>\n",
       "    </tr>\n",
       "    <tr>\n",
       "      <th>h</th>\n",
       "      <td>-1.180553</td>\n",
       "      <td>1.470474</td>\n",
       "      <td>-0.021558</td>\n",
       "    </tr>\n",
       "  </tbody>\n",
       "</table>\n",
       "</div>"
      ],
      "text/plain": [
       "        one       two     three\n",
       "a -0.955684 -0.133674 -1.077403\n",
       "c  1.249903  0.571149  0.297048\n",
       "e  0.871865 -0.163711  0.689523\n",
       "f  1.984590 -0.118282  0.955130\n",
       "h -1.180553  1.470474 -0.021558"
      ]
     },
     "execution_count": 62,
     "metadata": {},
     "output_type": "execute_result"
    }
   ],
   "source": [
    "df.dropna()  # 删除有nan的行"
   ]
  },
  {
   "cell_type": "markdown",
   "metadata": {},
   "source": [
    "## Groupby分组"
   ]
  },
  {
   "cell_type": "markdown",
   "metadata": {},
   "source": [
    "### 创建分组"
   ]
  },
  {
   "cell_type": "markdown",
   "metadata": {},
   "source": [
    "Pandas对象可以分成任何对象。有多种方式来拆分对象，如  \n",
    "* obj.groupby(‘key’)  \n",
    "* obj.groupby([‘key1’,’key2’])  \n",
    "* obj.groupby(key,axis=1)"
   ]
  },
  {
   "cell_type": "code",
   "execution_count": 63,
   "metadata": {},
   "outputs": [
    {
     "data": {
      "text/html": [
       "<div>\n",
       "<style scoped>\n",
       "    .dataframe tbody tr th:only-of-type {\n",
       "        vertical-align: middle;\n",
       "    }\n",
       "\n",
       "    .dataframe tbody tr th {\n",
       "        vertical-align: top;\n",
       "    }\n",
       "\n",
       "    .dataframe thead th {\n",
       "        text-align: right;\n",
       "    }\n",
       "</style>\n",
       "<table border=\"1\" class=\"dataframe\">\n",
       "  <thead>\n",
       "    <tr style=\"text-align: right;\">\n",
       "      <th></th>\n",
       "      <th>Team</th>\n",
       "      <th>Rank</th>\n",
       "      <th>Year</th>\n",
       "      <th>Points</th>\n",
       "    </tr>\n",
       "  </thead>\n",
       "  <tbody>\n",
       "    <tr>\n",
       "      <th>0</th>\n",
       "      <td>Riders</td>\n",
       "      <td>1</td>\n",
       "      <td>2014</td>\n",
       "      <td>876</td>\n",
       "    </tr>\n",
       "    <tr>\n",
       "      <th>1</th>\n",
       "      <td>Riders</td>\n",
       "      <td>2</td>\n",
       "      <td>2015</td>\n",
       "      <td>789</td>\n",
       "    </tr>\n",
       "    <tr>\n",
       "      <th>2</th>\n",
       "      <td>Devils</td>\n",
       "      <td>2</td>\n",
       "      <td>2014</td>\n",
       "      <td>863</td>\n",
       "    </tr>\n",
       "    <tr>\n",
       "      <th>3</th>\n",
       "      <td>Devils</td>\n",
       "      <td>3</td>\n",
       "      <td>2015</td>\n",
       "      <td>673</td>\n",
       "    </tr>\n",
       "    <tr>\n",
       "      <th>4</th>\n",
       "      <td>Kings</td>\n",
       "      <td>3</td>\n",
       "      <td>2014</td>\n",
       "      <td>741</td>\n",
       "    </tr>\n",
       "    <tr>\n",
       "      <th>5</th>\n",
       "      <td>kings</td>\n",
       "      <td>4</td>\n",
       "      <td>2015</td>\n",
       "      <td>812</td>\n",
       "    </tr>\n",
       "    <tr>\n",
       "      <th>6</th>\n",
       "      <td>Kings</td>\n",
       "      <td>1</td>\n",
       "      <td>2016</td>\n",
       "      <td>756</td>\n",
       "    </tr>\n",
       "    <tr>\n",
       "      <th>7</th>\n",
       "      <td>Kings</td>\n",
       "      <td>1</td>\n",
       "      <td>2017</td>\n",
       "      <td>788</td>\n",
       "    </tr>\n",
       "    <tr>\n",
       "      <th>8</th>\n",
       "      <td>Riders</td>\n",
       "      <td>2</td>\n",
       "      <td>2016</td>\n",
       "      <td>694</td>\n",
       "    </tr>\n",
       "    <tr>\n",
       "      <th>9</th>\n",
       "      <td>Royals</td>\n",
       "      <td>4</td>\n",
       "      <td>2014</td>\n",
       "      <td>701</td>\n",
       "    </tr>\n",
       "    <tr>\n",
       "      <th>10</th>\n",
       "      <td>Royals</td>\n",
       "      <td>1</td>\n",
       "      <td>2015</td>\n",
       "      <td>804</td>\n",
       "    </tr>\n",
       "    <tr>\n",
       "      <th>11</th>\n",
       "      <td>Riders</td>\n",
       "      <td>2</td>\n",
       "      <td>2017</td>\n",
       "      <td>690</td>\n",
       "    </tr>\n",
       "  </tbody>\n",
       "</table>\n",
       "</div>"
      ],
      "text/plain": [
       "      Team  Rank  Year  Points\n",
       "0   Riders     1  2014     876\n",
       "1   Riders     2  2015     789\n",
       "2   Devils     2  2014     863\n",
       "3   Devils     3  2015     673\n",
       "4    Kings     3  2014     741\n",
       "5    kings     4  2015     812\n",
       "6    Kings     1  2016     756\n",
       "7    Kings     1  2017     788\n",
       "8   Riders     2  2016     694\n",
       "9   Royals     4  2014     701\n",
       "10  Royals     1  2015     804\n",
       "11  Riders     2  2017     690"
      ]
     },
     "execution_count": 63,
     "metadata": {},
     "output_type": "execute_result"
    }
   ],
   "source": [
    "ipl_data = {'Team': ['Riders', 'Riders', 'Devils', 'Devils', 'Kings',\n",
    "         'kings', 'Kings', 'Kings', 'Riders', 'Royals', 'Royals', 'Riders'],\n",
    "         'Rank': [1, 2, 2, 3, 3,4 ,1 ,1,2 , 4,1,2],\n",
    "         'Year': [2014,2015,2014,2015,2014,2015,2016,2017,2016,2014,2015,2017],\n",
    "         'Points':[876,789,863,673,741,812,756,788,694,701,804,690]}\n",
    "df = pd.DataFrame(ipl_data)\n",
    "df"
   ]
  },
  {
   "cell_type": "code",
   "execution_count": 64,
   "metadata": {},
   "outputs": [
    {
     "data": {
      "text/plain": [
       "{'Devils': Int64Index([2, 3], dtype='int64'),\n",
       " 'Kings': Int64Index([4, 6, 7], dtype='int64'),\n",
       " 'Riders': Int64Index([0, 1, 8, 11], dtype='int64'),\n",
       " 'Royals': Int64Index([9, 10], dtype='int64'),\n",
       " 'kings': Int64Index([5], dtype='int64')}"
      ]
     },
     "execution_count": 64,
     "metadata": {},
     "output_type": "execute_result"
    }
   ],
   "source": [
    "df.groupby('Team').groups"
   ]
  },
  {
   "cell_type": "code",
   "execution_count": 65,
   "metadata": {},
   "outputs": [
    {
     "data": {
      "text/plain": [
       "{('Devils', 2014): Int64Index([2], dtype='int64'),\n",
       " ('Devils', 2015): Int64Index([3], dtype='int64'),\n",
       " ('Kings', 2014): Int64Index([4], dtype='int64'),\n",
       " ('Kings', 2016): Int64Index([6], dtype='int64'),\n",
       " ('Kings', 2017): Int64Index([7], dtype='int64'),\n",
       " ('Riders', 2014): Int64Index([0], dtype='int64'),\n",
       " ('Riders', 2015): Int64Index([1], dtype='int64'),\n",
       " ('Riders', 2016): Int64Index([8], dtype='int64'),\n",
       " ('Riders', 2017): Int64Index([11], dtype='int64'),\n",
       " ('Royals', 2014): Int64Index([9], dtype='int64'),\n",
       " ('Royals', 2015): Int64Index([10], dtype='int64'),\n",
       " ('kings', 2015): Int64Index([5], dtype='int64')}"
      ]
     },
     "execution_count": 65,
     "metadata": {},
     "output_type": "execute_result"
    }
   ],
   "source": [
    "df.groupby(['Team','Year']).groups"
   ]
  },
  {
   "cell_type": "markdown",
   "metadata": {},
   "source": [
    "### 迭代遍历分组"
   ]
  },
  {
   "cell_type": "code",
   "execution_count": 66,
   "metadata": {},
   "outputs": [
    {
     "name": "stdout",
     "output_type": "stream",
     "text": [
      "2014\n",
      "     Team  Rank  Year  Points\n",
      "0  Riders     1  2014     876\n",
      "2  Devils     2  2014     863\n",
      "4   Kings     3  2014     741\n",
      "9  Royals     4  2014     701\n",
      "2015\n",
      "      Team  Rank  Year  Points\n",
      "1   Riders     2  2015     789\n",
      "3   Devils     3  2015     673\n",
      "5    kings     4  2015     812\n",
      "10  Royals     1  2015     804\n",
      "2016\n",
      "     Team  Rank  Year  Points\n",
      "6   Kings     1  2016     756\n",
      "8  Riders     2  2016     694\n",
      "2017\n",
      "      Team  Rank  Year  Points\n",
      "7    Kings     1  2017     788\n",
      "11  Riders     2  2017     690\n"
     ]
    }
   ],
   "source": [
    "grouped = df.groupby('Year')\n",
    "\n",
    "for name,group in grouped:\n",
    "    print (name)\n",
    "    print (group)"
   ]
  },
  {
   "cell_type": "markdown",
   "metadata": {},
   "source": [
    "### 选择一个分组get_group()"
   ]
  },
  {
   "cell_type": "code",
   "execution_count": 67,
   "metadata": {},
   "outputs": [
    {
     "data": {
      "text/html": [
       "<div>\n",
       "<style scoped>\n",
       "    .dataframe tbody tr th:only-of-type {\n",
       "        vertical-align: middle;\n",
       "    }\n",
       "\n",
       "    .dataframe tbody tr th {\n",
       "        vertical-align: top;\n",
       "    }\n",
       "\n",
       "    .dataframe thead th {\n",
       "        text-align: right;\n",
       "    }\n",
       "</style>\n",
       "<table border=\"1\" class=\"dataframe\">\n",
       "  <thead>\n",
       "    <tr style=\"text-align: right;\">\n",
       "      <th></th>\n",
       "      <th>Team</th>\n",
       "      <th>Rank</th>\n",
       "      <th>Year</th>\n",
       "      <th>Points</th>\n",
       "    </tr>\n",
       "  </thead>\n",
       "  <tbody>\n",
       "    <tr>\n",
       "      <th>0</th>\n",
       "      <td>Riders</td>\n",
       "      <td>1</td>\n",
       "      <td>2014</td>\n",
       "      <td>876</td>\n",
       "    </tr>\n",
       "    <tr>\n",
       "      <th>2</th>\n",
       "      <td>Devils</td>\n",
       "      <td>2</td>\n",
       "      <td>2014</td>\n",
       "      <td>863</td>\n",
       "    </tr>\n",
       "    <tr>\n",
       "      <th>4</th>\n",
       "      <td>Kings</td>\n",
       "      <td>3</td>\n",
       "      <td>2014</td>\n",
       "      <td>741</td>\n",
       "    </tr>\n",
       "    <tr>\n",
       "      <th>9</th>\n",
       "      <td>Royals</td>\n",
       "      <td>4</td>\n",
       "      <td>2014</td>\n",
       "      <td>701</td>\n",
       "    </tr>\n",
       "  </tbody>\n",
       "</table>\n",
       "</div>"
      ],
      "text/plain": [
       "     Team  Rank  Year  Points\n",
       "0  Riders     1  2014     876\n",
       "2  Devils     2  2014     863\n",
       "4   Kings     3  2014     741\n",
       "9  Royals     4  2014     701"
      ]
     },
     "execution_count": 67,
     "metadata": {},
     "output_type": "execute_result"
    }
   ],
   "source": [
    "grouped.get_group(2014)"
   ]
  },
  {
   "cell_type": "markdown",
   "metadata": {},
   "source": [
    "### 分组下的聚合agg"
   ]
  },
  {
   "cell_type": "code",
   "execution_count": 68,
   "metadata": {},
   "outputs": [
    {
     "data": {
      "text/plain": [
       "Year\n",
       "2014    795.25\n",
       "2015    769.50\n",
       "2016    725.00\n",
       "2017    739.00\n",
       "Name: Points, dtype: float64"
      ]
     },
     "execution_count": 68,
     "metadata": {},
     "output_type": "execute_result"
    }
   ],
   "source": [
    "grouped['Points'].agg(np.mean)"
   ]
  },
  {
   "cell_type": "code",
   "execution_count": 69,
   "metadata": {},
   "outputs": [
    {
     "data": {
      "text/html": [
       "<div>\n",
       "<style scoped>\n",
       "    .dataframe tbody tr th:only-of-type {\n",
       "        vertical-align: middle;\n",
       "    }\n",
       "\n",
       "    .dataframe tbody tr th {\n",
       "        vertical-align: top;\n",
       "    }\n",
       "\n",
       "    .dataframe thead th {\n",
       "        text-align: right;\n",
       "    }\n",
       "</style>\n",
       "<table border=\"1\" class=\"dataframe\">\n",
       "  <thead>\n",
       "    <tr style=\"text-align: right;\">\n",
       "      <th></th>\n",
       "      <th>sum</th>\n",
       "      <th>mean</th>\n",
       "      <th>std</th>\n",
       "    </tr>\n",
       "    <tr>\n",
       "      <th>Year</th>\n",
       "      <th></th>\n",
       "      <th></th>\n",
       "      <th></th>\n",
       "    </tr>\n",
       "  </thead>\n",
       "  <tbody>\n",
       "    <tr>\n",
       "      <th>2014</th>\n",
       "      <td>3181</td>\n",
       "      <td>795.25</td>\n",
       "      <td>87.439026</td>\n",
       "    </tr>\n",
       "    <tr>\n",
       "      <th>2015</th>\n",
       "      <td>3078</td>\n",
       "      <td>769.50</td>\n",
       "      <td>65.035888</td>\n",
       "    </tr>\n",
       "    <tr>\n",
       "      <th>2016</th>\n",
       "      <td>1450</td>\n",
       "      <td>725.00</td>\n",
       "      <td>43.840620</td>\n",
       "    </tr>\n",
       "    <tr>\n",
       "      <th>2017</th>\n",
       "      <td>1478</td>\n",
       "      <td>739.00</td>\n",
       "      <td>69.296465</td>\n",
       "    </tr>\n",
       "  </tbody>\n",
       "</table>\n",
       "</div>"
      ],
      "text/plain": [
       "       sum    mean        std\n",
       "Year                         \n",
       "2014  3181  795.25  87.439026\n",
       "2015  3078  769.50  65.035888\n",
       "2016  1450  725.00  43.840620\n",
       "2017  1478  739.00  69.296465"
      ]
     },
     "execution_count": 69,
     "metadata": {},
     "output_type": "execute_result"
    }
   ],
   "source": [
    "grouped['Points'].agg([np.sum, np.mean, np.std])"
   ]
  },
  {
   "cell_type": "markdown",
   "metadata": {},
   "source": [
    "### 分组下的过滤"
   ]
  },
  {
   "cell_type": "code",
   "execution_count": 70,
   "metadata": {},
   "outputs": [
    {
     "data": {
      "text/html": [
       "<div>\n",
       "<style scoped>\n",
       "    .dataframe tbody tr th:only-of-type {\n",
       "        vertical-align: middle;\n",
       "    }\n",
       "\n",
       "    .dataframe tbody tr th {\n",
       "        vertical-align: top;\n",
       "    }\n",
       "\n",
       "    .dataframe thead th {\n",
       "        text-align: right;\n",
       "    }\n",
       "</style>\n",
       "<table border=\"1\" class=\"dataframe\">\n",
       "  <thead>\n",
       "    <tr style=\"text-align: right;\">\n",
       "      <th></th>\n",
       "      <th>Team</th>\n",
       "      <th>Rank</th>\n",
       "      <th>Year</th>\n",
       "      <th>Points</th>\n",
       "    </tr>\n",
       "  </thead>\n",
       "  <tbody>\n",
       "    <tr>\n",
       "      <th>0</th>\n",
       "      <td>Riders</td>\n",
       "      <td>1</td>\n",
       "      <td>2014</td>\n",
       "      <td>876</td>\n",
       "    </tr>\n",
       "    <tr>\n",
       "      <th>1</th>\n",
       "      <td>Riders</td>\n",
       "      <td>2</td>\n",
       "      <td>2015</td>\n",
       "      <td>789</td>\n",
       "    </tr>\n",
       "    <tr>\n",
       "      <th>4</th>\n",
       "      <td>Kings</td>\n",
       "      <td>3</td>\n",
       "      <td>2014</td>\n",
       "      <td>741</td>\n",
       "    </tr>\n",
       "    <tr>\n",
       "      <th>6</th>\n",
       "      <td>Kings</td>\n",
       "      <td>1</td>\n",
       "      <td>2016</td>\n",
       "      <td>756</td>\n",
       "    </tr>\n",
       "    <tr>\n",
       "      <th>7</th>\n",
       "      <td>Kings</td>\n",
       "      <td>1</td>\n",
       "      <td>2017</td>\n",
       "      <td>788</td>\n",
       "    </tr>\n",
       "    <tr>\n",
       "      <th>8</th>\n",
       "      <td>Riders</td>\n",
       "      <td>2</td>\n",
       "      <td>2016</td>\n",
       "      <td>694</td>\n",
       "    </tr>\n",
       "    <tr>\n",
       "      <th>11</th>\n",
       "      <td>Riders</td>\n",
       "      <td>2</td>\n",
       "      <td>2017</td>\n",
       "      <td>690</td>\n",
       "    </tr>\n",
       "  </tbody>\n",
       "</table>\n",
       "</div>"
      ],
      "text/plain": [
       "      Team  Rank  Year  Points\n",
       "0   Riders     1  2014     876\n",
       "1   Riders     2  2015     789\n",
       "4    Kings     3  2014     741\n",
       "6    Kings     1  2016     756\n",
       "7    Kings     1  2017     788\n",
       "8   Riders     2  2016     694\n",
       "11  Riders     2  2017     690"
      ]
     },
     "execution_count": 70,
     "metadata": {},
     "output_type": "execute_result"
    }
   ],
   "source": [
    "df.groupby('Team').filter(lambda x: len(x) >= 3)"
   ]
  },
  {
   "cell_type": "markdown",
   "metadata": {},
   "source": [
    "## Pandas合并/连接merge"
   ]
  },
  {
   "cell_type": "markdown",
   "metadata": {},
   "source": [
    "```python  \n",
    "pd.merge(left, right, how='inner', on=None, left_on=None, right_on=None,left_index=False, right_index=False, sort=True)  \n",
    "```\n"
   ]
  },
  {
   "cell_type": "code",
   "execution_count": 71,
   "metadata": {},
   "outputs": [
    {
     "name": "stdout",
     "output_type": "stream",
     "text": [
      "   id    Name subject_id\n",
      "0   1    Alex       sub1\n",
      "1   2     Amy       sub2\n",
      "2   3   Allen       sub4\n",
      "3   4   Alice       sub6\n",
      "4   5  Ayoung       sub5\n",
      "========================================\n",
      "   id   Name subject_id\n",
      "0   1  Billy       sub2\n",
      "1   2  Brian       sub4\n",
      "2   3   Bran       sub3\n",
      "3   4  Bryce       sub6\n",
      "4   5  Betty       sub5\n"
     ]
    }
   ],
   "source": [
    "left = pd.DataFrame({\n",
    "         'id':[1,2,3,4,5],\n",
    "         'Name': ['Alex', 'Amy', 'Allen', 'Alice', 'Ayoung'],\n",
    "         'subject_id':['sub1','sub2','sub4','sub6','sub5']})\n",
    "right = pd.DataFrame(\n",
    "         {'id':[1,2,3,4,5],\n",
    "         'Name': ['Billy', 'Brian', 'Bran', 'Bryce', 'Betty'],\n",
    "         'subject_id':['sub2','sub4','sub3','sub6','sub5']})\n",
    "print (left)\n",
    "print(\"========================================\")\n",
    "print (right)"
   ]
  },
  {
   "cell_type": "markdown",
   "metadata": {},
   "source": [
    "### 在一个键上合并两个数据帧"
   ]
  },
  {
   "cell_type": "code",
   "execution_count": 72,
   "metadata": {},
   "outputs": [
    {
     "data": {
      "text/html": [
       "<div>\n",
       "<style scoped>\n",
       "    .dataframe tbody tr th:only-of-type {\n",
       "        vertical-align: middle;\n",
       "    }\n",
       "\n",
       "    .dataframe tbody tr th {\n",
       "        vertical-align: top;\n",
       "    }\n",
       "\n",
       "    .dataframe thead th {\n",
       "        text-align: right;\n",
       "    }\n",
       "</style>\n",
       "<table border=\"1\" class=\"dataframe\">\n",
       "  <thead>\n",
       "    <tr style=\"text-align: right;\">\n",
       "      <th></th>\n",
       "      <th>id</th>\n",
       "      <th>Name_x</th>\n",
       "      <th>subject_id_x</th>\n",
       "      <th>Name_y</th>\n",
       "      <th>subject_id_y</th>\n",
       "    </tr>\n",
       "  </thead>\n",
       "  <tbody>\n",
       "    <tr>\n",
       "      <th>0</th>\n",
       "      <td>1</td>\n",
       "      <td>Alex</td>\n",
       "      <td>sub1</td>\n",
       "      <td>Billy</td>\n",
       "      <td>sub2</td>\n",
       "    </tr>\n",
       "    <tr>\n",
       "      <th>1</th>\n",
       "      <td>2</td>\n",
       "      <td>Amy</td>\n",
       "      <td>sub2</td>\n",
       "      <td>Brian</td>\n",
       "      <td>sub4</td>\n",
       "    </tr>\n",
       "    <tr>\n",
       "      <th>2</th>\n",
       "      <td>3</td>\n",
       "      <td>Allen</td>\n",
       "      <td>sub4</td>\n",
       "      <td>Bran</td>\n",
       "      <td>sub3</td>\n",
       "    </tr>\n",
       "    <tr>\n",
       "      <th>3</th>\n",
       "      <td>4</td>\n",
       "      <td>Alice</td>\n",
       "      <td>sub6</td>\n",
       "      <td>Bryce</td>\n",
       "      <td>sub6</td>\n",
       "    </tr>\n",
       "    <tr>\n",
       "      <th>4</th>\n",
       "      <td>5</td>\n",
       "      <td>Ayoung</td>\n",
       "      <td>sub5</td>\n",
       "      <td>Betty</td>\n",
       "      <td>sub5</td>\n",
       "    </tr>\n",
       "  </tbody>\n",
       "</table>\n",
       "</div>"
      ],
      "text/plain": [
       "   id  Name_x subject_id_x Name_y subject_id_y\n",
       "0   1    Alex         sub1  Billy         sub2\n",
       "1   2     Amy         sub2  Brian         sub4\n",
       "2   3   Allen         sub4   Bran         sub3\n",
       "3   4   Alice         sub6  Bryce         sub6\n",
       "4   5  Ayoung         sub5  Betty         sub5"
      ]
     },
     "execution_count": 72,
     "metadata": {},
     "output_type": "execute_result"
    }
   ],
   "source": [
    "rs = pd.merge(left,right,on='id')\n",
    "rs"
   ]
  },
  {
   "cell_type": "markdown",
   "metadata": {},
   "source": [
    "### 合并多个键上的两个数据框"
   ]
  },
  {
   "cell_type": "code",
   "execution_count": 73,
   "metadata": {},
   "outputs": [
    {
     "data": {
      "text/html": [
       "<div>\n",
       "<style scoped>\n",
       "    .dataframe tbody tr th:only-of-type {\n",
       "        vertical-align: middle;\n",
       "    }\n",
       "\n",
       "    .dataframe tbody tr th {\n",
       "        vertical-align: top;\n",
       "    }\n",
       "\n",
       "    .dataframe thead th {\n",
       "        text-align: right;\n",
       "    }\n",
       "</style>\n",
       "<table border=\"1\" class=\"dataframe\">\n",
       "  <thead>\n",
       "    <tr style=\"text-align: right;\">\n",
       "      <th></th>\n",
       "      <th>id</th>\n",
       "      <th>Name_x</th>\n",
       "      <th>subject_id</th>\n",
       "      <th>Name_y</th>\n",
       "    </tr>\n",
       "  </thead>\n",
       "  <tbody>\n",
       "    <tr>\n",
       "      <th>0</th>\n",
       "      <td>4</td>\n",
       "      <td>Alice</td>\n",
       "      <td>sub6</td>\n",
       "      <td>Bryce</td>\n",
       "    </tr>\n",
       "    <tr>\n",
       "      <th>1</th>\n",
       "      <td>5</td>\n",
       "      <td>Ayoung</td>\n",
       "      <td>sub5</td>\n",
       "      <td>Betty</td>\n",
       "    </tr>\n",
       "  </tbody>\n",
       "</table>\n",
       "</div>"
      ],
      "text/plain": [
       "   id  Name_x subject_id Name_y\n",
       "0   4   Alice       sub6  Bryce\n",
       "1   5  Ayoung       sub5  Betty"
      ]
     },
     "execution_count": 73,
     "metadata": {},
     "output_type": "execute_result"
    }
   ],
   "source": [
    "rs = pd.merge(left,right,on=['id','subject_id'])\n",
    "rs"
   ]
  },
  {
   "cell_type": "markdown",
   "metadata": {},
   "source": [
    "## Pandas可视化"
   ]
  },
  {
   "cell_type": "markdown",
   "metadata": {},
   "source": [
    "### bar"
   ]
  },
  {
   "cell_type": "code",
   "execution_count": 75,
   "metadata": {},
   "outputs": [
    {
     "data": {
      "text/plain": [
       "<matplotlib.axes._subplots.AxesSubplot at 0x1b8ed9d8ef0>"
      ]
     },
     "execution_count": 75,
     "metadata": {},
     "output_type": "execute_result"
    },
    {
     "data": {
      "image/png": "[encoded data removed]",
      "text/plain": [
       "<Figure size 432x288 with 1 Axes>"
      ]
     },
     "metadata": {
      "needs_background": "light"
     },
     "output_type": "display_data"
    }
   ],
   "source": [
    "%matplotlib inline\n",
    "\n",
    "df = pd.DataFrame(np.random.rand(10,4),columns=['a','b','c','d'])\n",
    "df.plot.bar()"
   ]
  },
  {
   "cell_type": "code",
   "execution_count": 76,
   "metadata": {},
   "outputs": [
    {
     "data": {
      "text/plain": [
       "<matplotlib.axes._subplots.AxesSubplot at 0x1b8eda8cda0>"
      ]
     },
     "execution_count": 76,
     "metadata": {},
     "output_type": "execute_result"
    },
    {
     "data": {
      "image/png": "[encoded data removed]",
      "text/plain": [
       "<Figure size 432x288 with 1 Axes>"
      ]
     },
     "metadata": {
      "needs_background": "light"
     },
     "output_type": "display_data"
    }
   ],
   "source": [
    "df.plot.barh(stacked=True)"
   ]
  },
  {
   "cell_type": "markdown",
   "metadata": {},
   "source": [
    "### 直方图"
   ]
  },
  {
   "cell_type": "code",
   "execution_count": 77,
   "metadata": {},
   "outputs": [
    {
     "data": {
      "text/plain": [
       "<matplotlib.axes._subplots.AxesSubplot at 0x1b8ed85ab38>"
      ]
     },
     "execution_count": 77,
     "metadata": {},
     "output_type": "execute_result"
    },
    {
     "data": {
      "image/png": "[encoded data removed]",
      "text/plain": [
       "<Figure size 432x288 with 1 Axes>"
      ]
     },
     "metadata": {
      "needs_background": "light"
     },
     "output_type": "display_data"
    }
   ],
   "source": [
    "df = pd.DataFrame({'a':np.random.randn(1000)+1,'b':np.random.randn(1000),'c':\n",
    "np.random.randn(1000) - 1}, columns=['a', 'b', 'c'])\n",
    "\n",
    "df.plot.hist(bins=50)"
   ]
  },
  {
   "cell_type": "markdown",
   "metadata": {},
   "source": [
    "### 箱形图"
   ]
  },
  {
   "cell_type": "code",
   "execution_count": 78,
   "metadata": {},
   "outputs": [
    {
     "data": {
      "text/plain": [
       "<matplotlib.axes._subplots.AxesSubplot at 0x1b8edce49e8>"
      ]
     },
     "execution_count": 78,
     "metadata": {},
     "output_type": "execute_result"
    },
    {
     "data": {
      "image/png": "[encoded data removed]",
      "text/plain": [
       "<Figure size 432x288 with 1 Axes>"
      ]
     },
     "metadata": {
      "needs_background": "light"
     },
     "output_type": "display_data"
    }
   ],
   "source": [
    "df = pd.DataFrame(np.random.rand(10, 5), columns=['A', 'B', 'C', 'D', 'E'])\n",
    "df.plot.box()"
   ]
  },
  {
   "cell_type": "markdown",
   "metadata": {},
   "source": [
    "### 散点图"
   ]
  },
  {
   "cell_type": "code",
   "execution_count": 79,
   "metadata": {},
   "outputs": [
    {
     "data": {
      "text/plain": [
       "<matplotlib.axes._subplots.AxesSubplot at 0x1b8eddf1470>"
      ]
     },
     "execution_count": 79,
     "metadata": {},
     "output_type": "execute_result"
    },
    {
     "data": {
      "image/png": "[encoded data removed]",
      "text/plain": [
       "<Figure size 432x288 with 1 Axes>"
      ]
     },
     "metadata": {
      "needs_background": "light"
     },
     "output_type": "display_data"
    }
   ],
   "source": [
    "df = pd.DataFrame(np.random.rand(50, 4), columns=['a', 'b', 'c', 'd'])\n",
    "df.plot.scatter(x='a', y='b')"
   ]
  },
  {
   "cell_type": "markdown",
   "metadata": {},
   "source": [
    "### 饼状图"
   ]
  },
  {
   "cell_type": "code",
   "execution_count": 80,
   "metadata": {},
   "outputs": [
    {
     "data": {
      "text/plain": [
       "array([<matplotlib.axes._subplots.AxesSubplot object at 0x000001B8EDE57F60>],\n",
       "      dtype=object)"
      ]
     },
     "execution_count": 80,
     "metadata": {},
     "output_type": "execute_result"
    },
    {
     "data": {
      "image/png": "[encoded data removed]",
      "text/plain": [
       "<Figure size 432x288 with 1 Axes>"
      ]
     },
     "metadata": {},
     "output_type": "display_data"
    }
   ],
   "source": [
    "df = pd.DataFrame(3 * np.random.rand(4), index=['a', 'b', 'c', 'd'], columns=['x'])\n",
    "df.plot.pie(subplots=True)"
   ]
  }
 ],
 "metadata": {
  "kernelspec": {
   "display_name": "Python 3",
   "language": "python",
   "name": "python3"
  },
  "language_info": {
   "codemirror_mode": {
    "name": "ipython",
    "version": 3
   },
   "file_extension": ".py",
   "mimetype": "text/x-python",
   "name": "python",
   "nbconvert_exporter": "python",
   "pygments_lexer": "ipython3",
   "version": "3.7.1"
  },
  "toc": {
   "base_numbering": 1,
   "nav_menu": {},
   "number_sections": true,
   "sideBar": true,
   "skip_h1_title": false,
   "title_cell": "Table of Contents",
   "title_sidebar": "Contents",
   "toc_cell": true,
   "toc_position": {
    "height": "calc(100% - 180px)",
    "left": "10px",
    "top": "150px",
    "width": "384px"
   },
   "toc_section_display": true,
   "toc_window_display": true
  }
 },
 "nbformat": 4,
 "nbformat_minor": 2
}
